{
 "cells": [
  {
   "cell_type": "code",
   "execution_count": 5,
   "metadata": {},
   "outputs": [
    {
     "name": "stdout",
     "output_type": "stream",
     "text": [
      "Enter the first name: Ayesha\n",
      "Enter the last name: Noor\n"
     ]
    },
    {
     "data": {
      "text/plain": [
       "'rooN ahseyA'"
      ]
     },
     "execution_count": 5,
     "metadata": {},
     "output_type": "execute_result"
    }
   ],
   "source": [
    "first_name = input(\"Enter the first name: \")\n",
    "last_name = input(\"Enter the last name: \")\n",
    "fullname = (f\"{first_name} {last_name}\")\n",
    "fullname[::-1]"
   ]
  },
  {
   "cell_type": "code",
   "execution_count": 64,
   "metadata": {},
   "outputs": [
    {
     "name": "stdout",
     "output_type": "stream",
     "text": [
      "Enter the first name: ayesha\n",
      "Enter the last name: noor\n",
      "r\n",
      "o\n",
      "o\n",
      "n\n",
      " \n",
      "a\n",
      "h\n",
      "s\n",
      "e\n",
      "y\n",
      "a\n"
     ]
    }
   ],
   "source": [
    "first_name = input(\"Enter the first name: \")\n",
    "last_name = input(\"Enter the last name: \")\n",
    "fullname = (f\"{first_name} {last_name}\")\n",
    "len(fullname)\n",
    "\n",
    "for i in range (-1,(len(fullname)+1)*-1,-1):\n",
    "    print(fullname[i])"
   ]
  },
  {
   "cell_type": "code",
   "execution_count": 61,
   "metadata": {},
   "outputs": [
    {
     "name": "stdout",
     "output_type": "stream",
     "text": [
      "Enter the string: ayesha\n",
      "a\n",
      "h\n",
      "s\n",
      "e\n",
      "y\n",
      "a\n"
     ]
    }
   ],
   "source": [
    "name = input(\"Enter the string: \")\n",
    "for i in range(-1,(len(name)+1)*-1,-1):\n",
    "    print(name[i])"
   ]
  }
 ],
 "metadata": {
  "kernelspec": {
   "display_name": "Python 3",
   "language": "python",
   "name": "python3"
  },
  "language_info": {
   "codemirror_mode": {
    "name": "ipython",
    "version": 3
   },
   "file_extension": ".py",
   "mimetype": "text/x-python",
   "name": "python",
   "nbconvert_exporter": "python",
   "pygments_lexer": "ipython3",
   "version": "3.7.0"
  }
 },
 "nbformat": 4,
 "nbformat_minor": 2
}
