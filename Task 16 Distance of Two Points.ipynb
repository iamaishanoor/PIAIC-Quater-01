{
 "cells": [
  {
   "cell_type": "markdown",
   "metadata": {},
   "source": [
    "# Distance between the points (x1, y1) and (x2, y2). "
   ]
  },
  {
   "cell_type": "code",
   "execution_count": 14,
   "metadata": {},
   "outputs": [
    {
     "name": "stdout",
     "output_type": "stream",
     "text": [
      "Enter the value of 'X1': 1\n",
      "Enter the value of 'Y1': 2\n",
      "Enter the value of 'X2': 3\n",
      "Enter the value of 'Y2': 4\n",
      "----------------------------------------\n",
      "(x1,y1) = (1.0,2.0)\n",
      "(x2,y2) = (3.0,4.0)\n",
      "The Distance Between Two Points are: 2.83\n"
     ]
    }
   ],
   "source": [
    "import math\n",
    "x1 = float(input(\"Enter the value of 'X1': \"))\n",
    "y1 = float(input(\"Enter the value of 'Y1': \"))\n",
    "x2 = float(input(\"Enter the value of 'X2': \"))\n",
    "y2 = float(input(\"Enter the value of 'Y2': \"))\n",
    "print(\"----------------------------------------\")\n",
    "print(f\"(x1,y1) = ({x1},{y1})\")\n",
    "print(f\"(x2,y2) = ({x2},{y2})\")\n",
    "distance_formula = math.sqrt(pow(x2-x1,2) + pow(y2-y1,2))\n",
    "distance_formula = round(distance_formula,2)\n",
    "print(\"The Distance Between Two Points are: \"+str(distance_formula))"
   ]
  }
 ],
 "metadata": {
  "kernelspec": {
   "display_name": "Python 3",
   "language": "python",
   "name": "python3"
  },
  "language_info": {
   "codemirror_mode": {
    "name": "ipython",
    "version": 3
   },
   "file_extension": ".py",
   "mimetype": "text/x-python",
   "name": "python",
   "nbconvert_exporter": "python",
   "pygments_lexer": "ipython3",
   "version": "3.7.0"
  }
 },
 "nbformat": 4,
 "nbformat_minor": 2
}
