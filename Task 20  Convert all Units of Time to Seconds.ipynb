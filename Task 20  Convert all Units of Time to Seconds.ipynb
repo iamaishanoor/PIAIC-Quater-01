{
 "cells": [
  {
   "cell_type": "markdown",
   "metadata": {},
   "source": [
    "# Convert all Units of Time into Seconds"
   ]
  },
  {
   "cell_type": "code",
   "execution_count": 6,
   "metadata": {},
   "outputs": [
    {
     "name": "stdout",
     "output_type": "stream",
     "text": [
      "Enter the time in hours: 2\n",
      "Enter the time in minutes: 24\n",
      "Enter the time in seconds: 9\n",
      "-----------------------------------------\n",
      "2 hr : 24 min : 9 sec\n",
      "Time in Seconds: 8649 sec\n",
      "-----------------------------------------\n"
     ]
    }
   ],
   "source": [
    "hours = int(input(\"Enter the time in hours: \"))\n",
    "minutes = int(input(\"Enter the time in minutes: \"))\n",
    "seconds = int(input(\"Enter the time in seconds: \"))\n",
    "print(\"-----------------------------------------\")\n",
    "print(f\"{hours} hr : {minutes} min : {seconds} sec\")\n",
    "hours *= 3600\n",
    "minutes *= 60\n",
    "total_time = hours + minutes + seconds\n",
    "print(f\"Time in Seconds: {total_time} sec\")\n",
    "print(\"-----------------------------------------\")"
   ]
  }
 ],
 "metadata": {
  "kernelspec": {
   "display_name": "Python 3",
   "language": "python",
   "name": "python3"
  },
  "language_info": {
   "codemirror_mode": {
    "name": "ipython",
    "version": 3
   },
   "file_extension": ".py",
   "mimetype": "text/x-python",
   "name": "python",
   "nbconvert_exporter": "python",
   "pygments_lexer": "ipython3",
   "version": "3.7.0"
  }
 },
 "nbformat": 4,
 "nbformat_minor": 2
}
