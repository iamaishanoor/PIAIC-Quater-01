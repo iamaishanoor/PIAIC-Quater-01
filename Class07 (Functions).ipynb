{
 "cells": [
  {
   "cell_type": "markdown",
   "metadata": {},
   "source": [
    "# Functions"
   ]
  },
  {
   "cell_type": "code",
   "execution_count": null,
   "metadata": {},
   "outputs": [],
   "source": [
    "#we use functions for reuseability of code."
   ]
  },
  {
   "cell_type": "code",
   "execution_count": 5,
   "metadata": {},
   "outputs": [],
   "source": [
    "def sum1():\n",
    "    a = int(input(\"Enter value of a: \"))\n",
    "    b = int(input(\"Enter value of b: \"))\n",
    "    sum1 = a + b\n",
    "    print(f\"Sum is: {sum1}\")\n",
    "    \n",
    "        \n"
   ]
  },
  {
   "cell_type": "code",
   "execution_count": 6,
   "metadata": {},
   "outputs": [
    {
     "name": "stdout",
     "output_type": "stream",
     "text": [
      "Enter value of a: 4\n",
      "Enter value of b: 5\n",
      "9\n"
     ]
    }
   ],
   "source": [
    "sum1()"
   ]
  },
  {
   "cell_type": "code",
   "execution_count": 10,
   "metadata": {},
   "outputs": [],
   "source": [
    "def sum2(a,b):\n",
    "    c=0\n",
    "    c=a+b\n",
    "    print(f\"Sum of the numbers is {c}\")"
   ]
  },
  {
   "cell_type": "code",
   "execution_count": 15,
   "metadata": {},
   "outputs": [
    {
     "name": "stdout",
     "output_type": "stream",
     "text": [
      "Sum of the numbers is 11.7\n"
     ]
    }
   ],
   "source": [
    "sum2(5.5,6.2)"
   ]
  },
  {
   "cell_type": "code",
   "execution_count": 1,
   "metadata": {},
   "outputs": [],
   "source": [
    "def funcname(): #parameter less function\n",
    "    print(\"ayeha\")"
   ]
  },
  {
   "cell_type": "code",
   "execution_count": 2,
   "metadata": {},
   "outputs": [
    {
     "name": "stdout",
     "output_type": "stream",
     "text": [
      "ayeha\n"
     ]
    }
   ],
   "source": [
    "funcname()"
   ]
  },
  {
   "cell_type": "code",
   "execution_count": 3,
   "metadata": {},
   "outputs": [],
   "source": [
    "def functiname(name): #parameterized function, parameter of function is called argument.\n",
    "    print(f\"My name is: {name}\")"
   ]
  },
  {
   "cell_type": "code",
   "execution_count": 47,
   "metadata": {},
   "outputs": [
    {
     "name": "stdout",
     "output_type": "stream",
     "text": [
      "My name is: ayesha\n"
     ]
    }
   ],
   "source": [
    "functiname(\"ayesha\")"
   ]
  },
  {
   "cell_type": "code",
   "execution_count": 17,
   "metadata": {},
   "outputs": [],
   "source": [
    "def giveMeFullName(firstname,lastname):  #positional arguments\n",
    "    fullname = firstname + \" \" +lastname #using concatenate\n",
    "    full_name = f\"{firstname} {lastname}\"\n",
    "    print(f\"My fullname is: {fullname}\")  #using format\n",
    "    \n",
    "    print(f\"My fullname is: {full_name}\") #print command.\n",
    "    "
   ]
  },
  {
   "cell_type": "code",
   "execution_count": 18,
   "metadata": {},
   "outputs": [
    {
     "name": "stdout",
     "output_type": "stream",
     "text": [
      "My fullname is: Ayesha Noor\n",
      "My fullname is: Ayesha Noor\n"
     ]
    }
   ],
   "source": [
    "giveMeFullName(\"Ayesha\",\"Noor\")"
   ]
  },
  {
   "cell_type": "code",
   "execution_count": 19,
   "metadata": {},
   "outputs": [
    {
     "name": "stdout",
     "output_type": "stream",
     "text": [
      "My fullname is: Ayesha Noor\n",
      "My fullname is: Ayesha Noor\n"
     ]
    }
   ],
   "source": [
    "#key-word argument\n",
    "giveMeFullName(lastname = \"Noor\",firstname = \"Ayesha\")"
   ]
  },
  {
   "cell_type": "code",
   "execution_count": 25,
   "metadata": {},
   "outputs": [],
   "source": [
    "#default parameter\n",
    "#if the function does not provide any value then we use default value given in the function\n",
    "def giveMeFullName(firstname,lastname,middlename = \"\"):  #positional arguments\n",
    "    fullname = firstname + \" \"+middlename+\" \" +lastname #using concatenate\n",
    "    full_name = f\"{firstname} {middlename} {lastname}\"\n",
    "    print(f\"My fullname is: {fullname}\")  #using format\n",
    "    \n",
    "    print(f\"My fullname is: {full_name}\") #print command.\n"
   ]
  },
  {
   "cell_type": "code",
   "execution_count": 26,
   "metadata": {},
   "outputs": [
    {
     "name": "stdout",
     "output_type": "stream",
     "text": [
      "My fullname is: ayesha  noor\n",
      "My fullname is: ayesha  noor\n"
     ]
    }
   ],
   "source": [
    "giveMeFullName(\"ayesha\",\"noor\")"
   ]
  },
  {
   "cell_type": "code",
   "execution_count": 27,
   "metadata": {},
   "outputs": [
    {
     "name": "stdout",
     "output_type": "stream",
     "text": [
      "My fullname is: ayesha noor bhatti\n",
      "My fullname is: ayesha noor bhatti\n"
     ]
    }
   ],
   "source": [
    "giveMeFullName(\"ayesha\",\"bhatti\",\"noor\")"
   ]
  },
  {
   "cell_type": "code",
   "execution_count": 35,
   "metadata": {},
   "outputs": [],
   "source": [
    "#local variable -----> within function, localvariable ka scope function k ander he hota hai\n",
    "#global variable ------> can access everywhere in the code, global varaiable ka scope function k ander bhi bahar bhi.\n",
    "#example:\n",
    "def subtraction(x,y):\n",
    "    z = x-y\n",
    "    print(z)"
   ]
  },
  {
   "cell_type": "code",
   "execution_count": 37,
   "metadata": {},
   "outputs": [
    {
     "name": "stdout",
     "output_type": "stream",
     "text": [
      "2\n"
     ]
    },
    {
     "ename": "NameError",
     "evalue": "name 'z' is not defined",
     "output_type": "error",
     "traceback": [
      "\u001b[1;31m---------------------------------------------------------------------------\u001b[0m",
      "\u001b[1;31mNameError\u001b[0m                                 Traceback (most recent call last)",
      "\u001b[1;32m<ipython-input-37-f12793b02f6e>\u001b[0m in \u001b[0;36m<module>\u001b[1;34m()\u001b[0m\n\u001b[0;32m      1\u001b[0m \u001b[0msubtraction\u001b[0m\u001b[1;33m(\u001b[0m\u001b[1;36m4\u001b[0m\u001b[1;33m,\u001b[0m\u001b[1;36m2\u001b[0m\u001b[1;33m)\u001b[0m\u001b[1;33m\u001b[0m\u001b[0m\n\u001b[1;32m----> 2\u001b[1;33m \u001b[0mprint\u001b[0m\u001b[1;33m(\u001b[0m\u001b[0mz\u001b[0m\u001b[1;33m)\u001b[0m   \u001b[1;31m#cant access the variable 'z' because it is local variable.\u001b[0m\u001b[1;33m\u001b[0m\u001b[0m\n\u001b[0m",
      "\u001b[1;31mNameError\u001b[0m: name 'z' is not defined"
     ]
    }
   ],
   "source": [
    "subtraction(4,2)\n",
    "print(z)   #cant access the variable 'z' because it is local variable."
   ]
  },
  {
   "cell_type": "code",
   "execution_count": 38,
   "metadata": {},
   "outputs": [],
   "source": [
    "#now we use return to use it outside the code.\n",
    "def subtraction(x,y):\n",
    "    return(x-y) #return must be the last line of the function, any command after return can't be executed."
   ]
  },
  {
   "cell_type": "code",
   "execution_count": 40,
   "metadata": {},
   "outputs": [
    {
     "name": "stdout",
     "output_type": "stream",
     "text": [
      "1\n"
     ]
    }
   ],
   "source": [
    "result = subtraction(4,3)\n",
    "print(result)"
   ]
  },
  {
   "cell_type": "code",
   "execution_count": 41,
   "metadata": {},
   "outputs": [],
   "source": [
    "def subtraction(x,y):\n",
    "    return(x)"
   ]
  },
  {
   "cell_type": "code",
   "execution_count": 44,
   "metadata": {},
   "outputs": [
    {
     "name": "stdout",
     "output_type": "stream",
     "text": [
      "3\n"
     ]
    }
   ],
   "source": [
    "print(subtraction(3,5)) #here we get the value of x"
   ]
  },
  {
   "cell_type": "code",
   "execution_count": 49,
   "metadata": {},
   "outputs": [],
   "source": [
    "#you can return more than one value.\n",
    "def subtract(x,y):\n",
    "    z = x-y\n",
    "    return z,\"hello world\""
   ]
  },
  {
   "cell_type": "code",
   "execution_count": 50,
   "metadata": {},
   "outputs": [
    {
     "data": {
      "text/plain": [
       "(100, 'hello world')"
      ]
     },
     "execution_count": 50,
     "metadata": {},
     "output_type": "execute_result"
    }
   ],
   "source": [
    "subtract(200,100)"
   ]
  },
  {
   "cell_type": "code",
   "execution_count": 57,
   "metadata": {},
   "outputs": [
    {
     "ename": "NameError",
     "evalue": "name 'p' is not defined",
     "output_type": "error",
     "traceback": [
      "\u001b[1;31m---------------------------------------------------------------------------\u001b[0m",
      "\u001b[1;31mNameError\u001b[0m                                 Traceback (most recent call last)",
      "\u001b[1;32m<ipython-input-57-d185360e1321>\u001b[0m in \u001b[0;36m<module>\u001b[1;34m()\u001b[0m\n\u001b[0;32m      6\u001b[0m     \u001b[0mw\u001b[0m \u001b[1;33m=\u001b[0m \u001b[0mx\u001b[0m \u001b[1;33m-\u001b[0m \u001b[0my\u001b[0m\u001b[1;33m\u001b[0m\u001b[0m\n\u001b[0;32m      7\u001b[0m     \u001b[1;32mreturn\u001b[0m \u001b[0mw\u001b[0m\u001b[1;33m\u001b[0m\u001b[0m\n\u001b[1;32m----> 8\u001b[1;33m \u001b[0mprint\u001b[0m\u001b[1;33m(\u001b[0m\u001b[0msub\u001b[0m\u001b[1;33m(\u001b[0m\u001b[1;36m20\u001b[0m\u001b[1;33m,\u001b[0m\u001b[1;36m10\u001b[0m\u001b[1;33m)\u001b[0m\u001b[1;33m,\u001b[0m\u001b[0mq\u001b[0m\u001b[1;33m,\u001b[0m\u001b[0mp\u001b[0m\u001b[1;33m)\u001b[0m\u001b[1;33m\u001b[0m\u001b[0m\n\u001b[0m",
      "\u001b[1;31mNameError\u001b[0m: name 'p' is not defined"
     ]
    }
   ],
   "source": [
    "#making local to global\n",
    "def sub(x,y):    \n",
    "    global q\n",
    "    p = \"i am pakistani\"  #cant be access because it is not global\n",
    "    q = \"i am local golbal\" #can be access because it is global variable\n",
    "    w = x - y\n",
    "    return w\n",
    "print(sub(20,10),q,p)"
   ]
  },
  {
   "cell_type": "code",
   "execution_count": 59,
   "metadata": {},
   "outputs": [
    {
     "name": "stdout",
     "output_type": "stream",
     "text": [
      "i am local golbal\n"
     ]
    }
   ],
   "source": [
    "print(q)"
   ]
  },
  {
   "cell_type": "markdown",
   "metadata": {},
   "source": [
    "# Keyword Argument"
   ]
  },
  {
   "cell_type": "code",
   "execution_count": 1,
   "metadata": {},
   "outputs": [],
   "source": [
    "def car(model,year):\n",
    "    print(f\"My Car Model is: {model}\")\n",
    "    print(f\"My Car Year is: {year}\")"
   ]
  },
  {
   "cell_type": "code",
   "execution_count": 4,
   "metadata": {},
   "outputs": [
    {
     "name": "stdout",
     "output_type": "stream",
     "text": [
      "My Car Model is: 2019\n",
      "My Car Year is: suzuki\n",
      "My Car Model is: Honda123\n",
      "My Car Year is: 2019\n",
      "My Car Model is: Maruti Suzuki\n",
      "My Car Year is: 2019\n"
     ]
    }
   ],
   "source": [
    "car('2019','suzuki')\n",
    "#this is a error so we use positional argument to solve this problem.\n",
    "#if argument positions are changed then i does'nt effect the main indea\n",
    "car(model = \"Honda123\", year=\"2019\")\n",
    "car(year = \"2019\", model = \"Maruti Suzuki\")"
   ]
  },
  {
   "cell_type": "code",
   "execution_count": 8,
   "metadata": {},
   "outputs": [],
   "source": [
    "#Keyword + positional arguments\n",
    "def name(firstname,lastname,middlename = \"\"):\n",
    "    print(f\"My name is {firstname} {middlename} {lastname}\")\n",
    "    "
   ]
  },
  {
   "cell_type": "code",
   "execution_count": 9,
   "metadata": {},
   "outputs": [
    {
     "name": "stdout",
     "output_type": "stream",
     "text": [
      "My name is Ayesha  Noor\n"
     ]
    }
   ],
   "source": [
    "name(firstname = \"Ayesha\",lastname = \"Noor\")"
   ]
  },
  {
   "cell_type": "code",
   "execution_count": 11,
   "metadata": {},
   "outputs": [],
   "source": [
    "#Keyword + positional arguments\n",
    "#keyword arguments always in the last of the positional argument\n",
    "def name(firstname,lastname,middlename):\n",
    "    print(f\"My name is {firstname} {middlename} {lastname}\")"
   ]
  },
  {
   "cell_type": "code",
   "execution_count": 12,
   "metadata": {},
   "outputs": [
    {
     "ename": "SyntaxError",
     "evalue": "positional argument follows keyword argument (<ipython-input-12-eefdeb9995cc>, line 1)",
     "output_type": "error",
     "traceback": [
      "\u001b[1;36m  File \u001b[1;32m\"<ipython-input-12-eefdeb9995cc>\"\u001b[1;36m, line \u001b[1;32m1\u001b[0m\n\u001b[1;33m    name(\"Ayesha\",middlename = \"noor\",\"Bhatti\")\u001b[0m\n\u001b[1;37m                                     ^\u001b[0m\n\u001b[1;31mSyntaxError\u001b[0m\u001b[1;31m:\u001b[0m positional argument follows keyword argument\n"
     ]
    }
   ],
   "source": [
    "name(\"Ayesha\",middlename = \"noor\",\"Bhatti\")"
   ]
  },
  {
   "cell_type": "code",
   "execution_count": 14,
   "metadata": {},
   "outputs": [
    {
     "name": "stdout",
     "output_type": "stream",
     "text": [
      "My name is Ayesha Noor Bhatti\n"
     ]
    }
   ],
   "source": [
    "#to remove the above error we place all the keyword argument and the default argument in the last\n",
    "name(\"Ayesha\",\"Bhatti\",middlename = \"Noor\")"
   ]
  },
  {
   "cell_type": "code",
   "execution_count": 15,
   "metadata": {},
   "outputs": [
    {
     "ename": "SyntaxError",
     "evalue": "non-default argument follows default argument (<ipython-input-15-4e49dafed980>, line 2)",
     "output_type": "error",
     "traceback": [
      "\u001b[1;36m  File \u001b[1;32m\"<ipython-input-15-4e49dafed980>\"\u001b[1;36m, line \u001b[1;32m2\u001b[0m\n\u001b[1;33m    def name(firstname,middlename = \"Noor\",lastname):\u001b[0m\n\u001b[1;37m            ^\u001b[0m\n\u001b[1;31mSyntaxError\u001b[0m\u001b[1;31m:\u001b[0m non-default argument follows default argument\n"
     ]
    }
   ],
   "source": [
    "#Positional + Keyword + Default.\n",
    "def name(firstname,middlename = \"Noor\",lastname):\n",
    "    print(f\"My name is {firstname} {middlename} {lastname}\")\n"
   ]
  },
  {
   "cell_type": "code",
   "execution_count": 17,
   "metadata": {},
   "outputs": [],
   "source": [
    "#to overcome this error we have to make the default argument in the last.\n",
    "def name(firstname,lastname,middlename = \"Noor\"):\n",
    "    print(f\"My name is {firstname} {middlename} {lastname}\")\n",
    "\n"
   ]
  },
  {
   "cell_type": "code",
   "execution_count": 18,
   "metadata": {},
   "outputs": [
    {
     "name": "stdout",
     "output_type": "stream",
     "text": [
      "My name is Ayesha Noor Bhatti\n"
     ]
    }
   ],
   "source": [
    "name('Ayesha',lastname = \"Bhatti\")"
   ]
  },
  {
   "cell_type": "markdown",
   "metadata": {},
   "source": [
    "# Arbitary Number of Arguments"
   ]
  },
  {
   "cell_type": "code",
   "execution_count": 47,
   "metadata": {},
   "outputs": [],
   "source": [
    "def pizza(size,flavour,*topping): #for more values in one arguments, and store it in tuple.\n",
    "    print(f\"My Pizza Size is: {size}\")\n",
    "    print(f\"My Pizza Flavour is: {flavour}\")\n",
    "    print(f\"My Pizza Toppings: {topping}\")"
   ]
  },
  {
   "cell_type": "code",
   "execution_count": 48,
   "metadata": {},
   "outputs": [
    {
     "name": "stdout",
     "output_type": "stream",
     "text": [
      "My Pizza Size is: 14-inches\n",
      "My Pizza Flavour is: Bar-B-Que\n",
      "My Pizza Toppings: ('Chesse', 'Garlic Sauce')\n"
     ]
    }
   ],
   "source": [
    "pizza(\"14-inches\",\"Bar-B-Que\",\"Chesse\",\"Garlic Sauce\")"
   ]
  },
  {
   "cell_type": "code",
   "execution_count": 41,
   "metadata": {},
   "outputs": [],
   "source": [
    "def pizza(size,*flavour,topping): #for more values in one arguments, and store it in tuple.\n",
    "    print(f\"My Pizza Size is: {size}\")\n",
    "    print(f\"My Pizza Flavour is: {flavour}\")\n",
    "    print(f\"My Pizza Toppings: {topping}\")\n",
    "    "
   ]
  },
  {
   "cell_type": "code",
   "execution_count": 45,
   "metadata": {},
   "outputs": [
    {
     "name": "stdout",
     "output_type": "stream",
     "text": [
      "My Pizza Size is: 14-inches\n",
      "My Pizza Flavour is: ('Bar-B-Que', 'Chicken Tikka')\n",
      "My Pizza Toppings: Chesse\n"
     ]
    }
   ],
   "source": [
    "pizza(\"14-inches\",\"Bar-B-Que\",\"Chicken Tikka\",topping = \"Chesse\")"
   ]
  },
  {
   "cell_type": "code",
   "execution_count": 50,
   "metadata": {},
   "outputs": [],
   "source": [
    "def car(make,model,**specs):   #it stores the argument in dictionaries, using keyword argument.\n",
    "    print(make)\n",
    "    print(model)\n",
    "    print(specs)"
   ]
  },
  {
   "cell_type": "code",
   "execution_count": 56,
   "metadata": {},
   "outputs": [
    {
     "name": "stdout",
     "output_type": "stream",
     "text": [
      "Honda\n",
      "2678\n",
      "{'transmission': 'Automatic', 'power': 'Yes'}\n"
     ]
    }
   ],
   "source": [
    "car(\"Honda\",\"2678\",transmission = \"Automatic\", power = \"Yes\")"
   ]
  },
  {
   "cell_type": "markdown",
   "metadata": {},
   "source": [
    "# FUNCTION AS A VARIABLE"
   ]
  },
  {
   "cell_type": "code",
   "execution_count": 93,
   "metadata": {},
   "outputs": [],
   "source": [
    "def add(a,b):\n",
    "    c = a+b\n",
    "    return c"
   ]
  },
  {
   "cell_type": "code",
   "execution_count": 94,
   "metadata": {},
   "outputs": [],
   "source": [
    "def sub(a,b):\n",
    "    c = a-b\n",
    "    return c"
   ]
  },
  {
   "cell_type": "code",
   "execution_count": 95,
   "metadata": {},
   "outputs": [
    {
     "name": "stdout",
     "output_type": "stream",
     "text": [
      "9\n"
     ]
    }
   ],
   "source": [
    "result = add(2,2) + sub(10,5)\n",
    "print(result)"
   ]
  },
  {
   "cell_type": "code",
   "execution_count": 96,
   "metadata": {},
   "outputs": [
    {
     "name": "stdout",
     "output_type": "stream",
     "text": [
      "AyeshaNoor\n"
     ]
    }
   ],
   "source": [
    "result = add(\"Ayesha\",\"Noor\")\n",
    "print(result)\n",
    "\n",
    "#if we call a function and gets none than their is a problem in return it doesnt send any value."
   ]
  },
  {
   "cell_type": "code",
   "execution_count": 85,
   "metadata": {},
   "outputs": [],
   "source": [
    "def answer():\n",
    "    result = add(2,2) + sub(10,5)\n",
    "    print(result)\n",
    "    "
   ]
  },
  {
   "cell_type": "code",
   "execution_count": 86,
   "metadata": {},
   "outputs": [
    {
     "name": "stdout",
     "output_type": "stream",
     "text": [
      "9\n"
     ]
    }
   ],
   "source": [
    "answer()"
   ]
  },
  {
   "cell_type": "markdown",
   "metadata": {},
   "source": [
    "# Function In Function"
   ]
  },
  {
   "cell_type": "code",
   "execution_count": 32,
   "metadata": {},
   "outputs": [],
   "source": [
    "def myname(fname,lname):\n",
    "    print(f\"{fname} {lname}\")\n",
    "    def fname2():\n",
    "        print(f\"my name is {fname}\")\n",
    "    fname2()\n",
    "    "
   ]
  },
  {
   "cell_type": "code",
   "execution_count": 33,
   "metadata": {},
   "outputs": [
    {
     "name": "stdout",
     "output_type": "stream",
     "text": [
      "ayesha noor\n",
      "my name is ayesha\n"
     ]
    }
   ],
   "source": [
    "myname(\"ayesha\",\"noor\")"
   ]
  }
 ],
 "metadata": {
  "kernelspec": {
   "display_name": "Python 3",
   "language": "python",
   "name": "python3"
  },
  "language_info": {
   "codemirror_mode": {
    "name": "ipython",
    "version": 3
   },
   "file_extension": ".py",
   "mimetype": "text/x-python",
   "name": "python",
   "nbconvert_exporter": "python",
   "pygments_lexer": "ipython3",
   "version": "3.7.0"
  }
 },
 "nbformat": 4,
 "nbformat_minor": 2
}
