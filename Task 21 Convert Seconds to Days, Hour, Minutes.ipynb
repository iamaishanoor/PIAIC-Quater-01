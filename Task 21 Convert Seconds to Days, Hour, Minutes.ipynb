{
 "cells": [
  {
   "cell_type": "markdown",
   "metadata": {},
   "source": [
    "# Convert Seconds to Day, Hour, Minutes and Seconds."
   ]
  },
  {
   "cell_type": "code",
   "execution_count": 25,
   "metadata": {},
   "outputs": [
    {
     "name": "stdout",
     "output_type": "stream",
     "text": [
      "Enter the time in seconds: 95654\n",
      "Day: 1.0, Hour: 2.0, Minutes: 34.0, Seconds: 14.0\n"
     ]
    }
   ],
   "source": [
    "seconds = float(input(\"Enter the time in seconds: \"))\n",
    "day = seconds // (24 * 3600)\n",
    "seconds %= (24 * 3600);\n",
    "hour = seconds // 3600\n",
    "seconds %= 3600\n",
    "minutes = seconds // 60\n",
    "seconds %= 60\n",
    "\n",
    "print(f\"Day: {day}, Hour: {hour}, Minutes: {minutes}, Seconds: {seconds}\")"
   ]
  }
 ],
 "metadata": {
  "kernelspec": {
   "display_name": "Python 3",
   "language": "python",
   "name": "python3"
  },
  "language_info": {
   "codemirror_mode": {
    "name": "ipython",
    "version": 3
   },
   "file_extension": ".py",
   "mimetype": "text/x-python",
   "name": "python",
   "nbconvert_exporter": "python",
   "pygments_lexer": "ipython3",
   "version": "3.7.0"
  }
 },
 "nbformat": 4,
 "nbformat_minor": 2
}
