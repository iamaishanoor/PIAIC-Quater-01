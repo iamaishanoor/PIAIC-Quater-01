{
 "cells": [
  {
   "cell_type": "markdown",
   "metadata": {},
   "source": [
    "# Temprature Conversion"
   ]
  },
  {
   "cell_type": "code",
   "execution_count": 23,
   "metadata": {},
   "outputs": [
    {
     "name": "stdout",
     "output_type": "stream",
     "text": [
      "*****Temprature Converter*****\n",
      "1. from Celsius to Fahrenheit\n",
      "2. from Fahrenheit to Celsius\n",
      "-------------------------------\n",
      "Enter the choice: 1\n",
      "Enter the temprature in Celsius 42\n",
      "42.0 Celsius is 107.6 Fahrenheit\n"
     ]
    }
   ],
   "source": [
    "print(\"*****Temprature Converter*****\")\n",
    "print(\"1. from Celsius to Fahrenheit\")\n",
    "print(\"2. from Fahrenheit to Celsius\")\n",
    "print(\"------------------------------------\")\n",
    "option1 = int(input(\"Enter the choice: \"))\n",
    "\n",
    "if option1 == 1:\n",
    "    celsius = float(input(\"Enter the temprature in Celsius \"))\n",
    "    fahrenheit = (1.8 * celsius) + 32\n",
    "    fahrenheit = round(fahrenheit,2)\n",
    "    print(f\"{celsius} Celsius is {fahrenheit} Fahrenheit\")\n",
    "    \n",
    "elif option1 == 2:\n",
    "    fahrenheit = float(input(\"Enter the temprature in Fahrenheit \"))\n",
    "    celsius = (fahrenheit - 32) * 5/9\n",
    "    celsius = round(celsius,2)\n",
    "    print(f\"{fahrenheit} Fahrenheit is {celsius} Celsius\")\n",
    "else:\n",
    "    print(\"Invalid\")\n",
    "                    "
   ]
  }
 ],
 "metadata": {
  "kernelspec": {
   "display_name": "Python 3",
   "language": "python",
   "name": "python3"
  },
  "language_info": {
   "codemirror_mode": {
    "name": "ipython",
    "version": 3
   },
   "file_extension": ".py",
   "mimetype": "text/x-python",
   "name": "python",
   "nbconvert_exporter": "python",
   "pygments_lexer": "ipython3",
   "version": "3.7.0"
  }
 },
 "nbformat": 4,
 "nbformat_minor": 2
}
