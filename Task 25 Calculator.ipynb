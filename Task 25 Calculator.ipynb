{
 "cells": [
  {
   "cell_type": "markdown",
   "metadata": {},
   "source": [
    "# Calculator"
   ]
  },
  {
   "cell_type": "code",
   "execution_count": 1,
   "metadata": {},
   "outputs": [
    {
     "name": "stdout",
     "output_type": "stream",
     "text": [
      "~~~~~~~~~~~~~~~~~~~~~~~~~~~~~~~~~~~~~~~~~~~~~~~~~~~~~~~~~~~~~~~~~~~~~~~~~~~~~~~~~~~~~~~~~~~~~~~~~~~~~~~~~~~~~~~~~\n",
      "\t\t\t\t\t\t SIMPLE CALCULATOR\n",
      "~~~~~~~~~~~~~~~~~~~~~~~~~~~~~~~~~~~~~~~~~~~~~~~~~~~~~~~~~~~~~~~~~~~~~~~~~~~~~~~~~~~~~~~~~~~~~~~~~~~~~~~~~~~~~~~~~\n",
      "Enter the first number: 77\n",
      "Enter the second number: 33\n",
      "OPERATIONS:\n",
      "\t1. Addition: '+'\n",
      "\t2. Subtraction: '-'\n",
      "\t3. Multiplication: '*'\n",
      "\t4. Float Division: '/'\n",
      "\t5. Int Division: '//'\n",
      "\t6. Modulo: '%'\n",
      "\t7. Power: '**'\n",
      "Press Number to perform Operation:\n",
      "Enter the Operation Number: 1\n",
      "The Answer is: 110.0\n"
     ]
    }
   ],
   "source": [
    "print(\"~~~~~~~~~~~~~~~~~~~~~~~~~~~~~~~~~~~~~~~~~~~~~~~~~~~~~~~~~~~~~~~~~~~~~~~~~~~~~~~~~~~~~~~~~~~~~~~~~~~~~~~~~~~~~~~~~\")\n",
    "print(\"\\t\\t\\t\\t\\t\\t SIMPLE CALCULATOR\")\n",
    "print(\"~~~~~~~~~~~~~~~~~~~~~~~~~~~~~~~~~~~~~~~~~~~~~~~~~~~~~~~~~~~~~~~~~~~~~~~~~~~~~~~~~~~~~~~~~~~~~~~~~~~~~~~~~~~~~~~~~\")\n",
    "num1 = float(input(\"Enter the first number: \"))\n",
    "num2 = float(input(\"Enter the second number: \"))\n",
    "print(\"OPERATIONS:\")\n",
    "print(\"\\t1. Addition: '+'\")\n",
    "print(\"\\t2. Subtraction: '-'\")\n",
    "print(\"\\t3. Multiplication: '*'\")\n",
    "print(\"\\t4. Float Division: '/'\")\n",
    "print(\"\\t5. Int Division: '//'\")\n",
    "print(\"\\t6. Modulo: '%'\")\n",
    "print(\"\\t7. Power: '**'\")\n",
    "print(\"Press Number to perform Operation:\")\n",
    "operation = input(\"Enter the Operation Number: \")\n",
    "\n",
    "if operation == \"1\":     #Addition\n",
    "    ans = num1 + num2\n",
    "    print(\"The Answer is: \"+str(ans))\n",
    "    \n",
    "elif operation == \"2\":   #Subtraction\n",
    "     ans = num1 - num2\n",
    "     print(\"The Answer is: \"+str(ans))\n",
    "        \n",
    "elif operation == \"3\":   #Multiplication\n",
    "     ans = num1 * num2\n",
    "     print(\"The Answer is: \"+str(ans))\n",
    "\n",
    "elif operation == \"4\":   #Float Division\n",
    "     ans = num1 / num2\n",
    "     print(\"The Answer is: \"+str(ans))\n",
    "\n",
    "elif operation == \"5\": #Int Division\n",
    "     ans = num1 // num2\n",
    "     print(\"The Answer is: \"+str(ans))\n",
    "\n",
    "elif operation == \"6\": #Remainder\n",
    "     ans = num1 % num2\n",
    "     print(\"The Answer is: \"+str(ans))\n",
    "\n",
    "elif operation == \"7\": #Power\n",
    "     ans = num1 ** num2\n",
    "     print(\"The Answer is: \"+str(ans))\n",
    "else:\n",
    "    print(\"Invalid Operation\")\n"
   ]
  },
  {
   "cell_type": "code",
   "execution_count": null,
   "metadata": {},
   "outputs": [],
   "source": []
  }
 ],
 "metadata": {
  "kernelspec": {
   "display_name": "Python 3",
   "language": "python",
   "name": "python3"
  },
  "language_info": {
   "codemirror_mode": {
    "name": "ipython",
    "version": 3
   },
   "file_extension": ".py",
   "mimetype": "text/x-python",
   "name": "python",
   "nbconvert_exporter": "python",
   "pygments_lexer": "ipython3",
   "version": "3.7.0"
  }
 },
 "nbformat": 4,
 "nbformat_minor": 2
}
