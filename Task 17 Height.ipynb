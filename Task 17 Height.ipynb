{
 "cells": [
  {
   "cell_type": "markdown",
   "metadata": {},
   "source": [
    "# Convert Height (in Feet and Inches) to Centimetres."
   ]
  },
  {
   "cell_type": "code",
   "execution_count": null,
   "metadata": {},
   "outputs": [
    {
     "name": "stdout",
     "output_type": "stream",
     "text": [
      "Enter your Height:\n"
     ]
    }
   ],
   "source": [
    "print(\"Enter your Height:\")\n",
    "feet = int(input(\"Feet: \")) \n",
    "inches = int(input(\"Inches: \"))\n",
    "print(\"-----------------------------------------\")\n",
    "print(f\"{feet}ft {inches}in Height in Centimeters: \"+str(centimeter)+\"cm\")\n",
    "feet *= 12\n",
    "inches +=feet\n",
    "centimeter = inches * 2.54\n"
   ]
  },
  {
   "cell_type": "code",
   "execution_count": null,
   "metadata": {},
   "outputs": [],
   "source": []
  }
 ],
 "metadata": {
  "kernelspec": {
   "display_name": "Python 3",
   "language": "python",
   "name": "python3"
  },
  "language_info": {
   "codemirror_mode": {
    "name": "ipython",
    "version": 3
   },
   "file_extension": ".py",
   "mimetype": "text/x-python",
   "name": "python",
   "nbconvert_exporter": "python",
   "pygments_lexer": "ipython3",
   "version": "3.7.0"
  }
 },
 "nbformat": 4,
 "nbformat_minor": 2
}
