{
 "cells": [
  {
   "cell_type": "code",
   "execution_count": 9,
   "metadata": {},
   "outputs": [
    {
     "name": "stdout",
     "output_type": "stream",
     "text": [
      "Enter the string: hhdhhdhldsnjkdjjjjjgghhh\n",
      "Enter the Specific Character: h\n",
      "Number of occurance of h is 8\n"
     ]
    }
   ],
   "source": [
    "string1 = input(\"Enter the string: \")\n",
    "specific_character = input(\"Enter the Specific Character: \")\n",
    "count = 0\n",
    "for i in string1:\n",
    "    if specific_character == i:\n",
    "        count+=1\n",
    "print(f\"Number of occurance of {specific_character} is {count}\")\n"
   ]
  }
 ],
 "metadata": {
  "kernelspec": {
   "display_name": "Python 3",
   "language": "python",
   "name": "python3"
  },
  "language_info": {
   "codemirror_mode": {
    "name": "ipython",
    "version": 3
   },
   "file_extension": ".py",
   "mimetype": "text/x-python",
   "name": "python",
   "nbconvert_exporter": "python",
   "pygments_lexer": "ipython3",
   "version": "3.7.0"
  }
 },
 "nbformat": 4,
 "nbformat_minor": 2
}
