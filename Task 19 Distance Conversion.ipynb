{
 "cells": [
  {
   "cell_type": "markdown",
   "metadata": {},
   "source": [
    "# Distance Conversion"
   ]
  },
  {
   "cell_type": "code",
   "execution_count": 8,
   "metadata": {},
   "outputs": [
    {
     "name": "stdout",
     "output_type": "stream",
     "text": [
      "Enter the Distance in Feets: 5284\n",
      "----------------Distance Convertion----------------------\n",
      "Distance in inches: 63408 in\n",
      "Distance in yard: 1761.33 yd\n",
      "Distance in mile: 1.0 mi\n"
     ]
    }
   ],
   "source": [
    "import math\n",
    "feet = int(input(\"Enter the Distance in Feets: \")) \n",
    "print(\"----------------Distance Convertion----------------------\")\n",
    "inches = feet * 12\n",
    "inches = round(inches,2)\n",
    "yard = feet/3\n",
    "yard = round(yard,2)\n",
    "mile = feet/5280\n",
    "mile = round(mile,2)\n",
    "print(f\"Distance in inches: {inches} in\")\n",
    "print(f\"Distance in yard: {yard} yd\")\n",
    "print(f\"Distance in mile: {mile} mi\")\n",
    "\n"
   ]
  }
 ],
 "metadata": {
  "kernelspec": {
   "display_name": "Python 3",
   "language": "python",
   "name": "python3"
  },
  "language_info": {
   "codemirror_mode": {
    "name": "ipython",
    "version": 3
   },
   "file_extension": ".py",
   "mimetype": "text/x-python",
   "name": "python",
   "nbconvert_exporter": "python",
   "pygments_lexer": "ipython3",
   "version": "3.7.0"
  }
 },
 "nbformat": 4,
 "nbformat_minor": 2
}
