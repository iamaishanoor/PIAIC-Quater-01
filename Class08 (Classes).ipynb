{
 "cells": [
  {
   "cell_type": "markdown",
   "metadata": {},
   "source": [
    "# Classes In Python"
   ]
  },
  {
   "cell_type": "code",
   "execution_count": 1,
   "metadata": {},
   "outputs": [],
   "source": [
    "#Classes are template.\n",
    "#object is the copy of the class, it should follow the class patterns and rules.\n",
    "#object have 2 things properties and behaviours.\n",
    "#attributes are also called variables.\n",
    "#__init is called constructor or intializer.\n",
    "#it creates copy of each variable for each object,and does'nt overwrite.\n"
   ]
  },
  {
   "cell_type": "code",
   "execution_count": 46,
   "metadata": {},
   "outputs": [],
   "source": [
    "class Mobile():\n",
    "    #attributes of class\n",
    "          #color,size,memory,price,camera,ram\n",
    "    def __init__(self,brand,color,screensize,memory,price,camera,ram):\n",
    "        self.brand = brand\n",
    "        self.color=color\n",
    "        self.screensize=screensize\n",
    "        self.memory=memory\n",
    "        self.price=price\n",
    "        self.camera=camera\n",
    "        self.ram=ram\n",
    "          #behaviours of class\n",
    "          #pickacall,makecall,dropcall,readmessage,writemessage,receivemessage\n",
    "    def receivecall(self):\n",
    "        print(f\"{self.brand} Mobile is ringing\")\n",
    "    def dialcall(self):\n",
    "        print(\"Mobile is dialing\")\n",
    "    def readmessage(self):\n",
    "        print(\"Message is reading\")\n",
    "    def writemessage(self):\n",
    "        print(\"Message is writing\")\n",
    "    def receivemessage(self):\n",
    "        print(\"Message is received\")\n",
    "  \n",
    "    "
   ]
  },
  {
   "cell_type": "code",
   "execution_count": 47,
   "metadata": {},
   "outputs": [],
   "source": [
    "mobile1 = Mobile(\"Samsung\",\"Red\",\"6.1 inches\",\"32GB\",\"40000\",\"16Mp\",\"4GB\")"
   ]
  },
  {
   "cell_type": "code",
   "execution_count": 48,
   "metadata": {},
   "outputs": [
    {
     "name": "stdout",
     "output_type": "stream",
     "text": [
      "Samsung Mobile is ringing\n"
     ]
    }
   ],
   "source": [
    "mobile1.receivecall()"
   ]
  },
  {
   "cell_type": "code",
   "execution_count": 24,
   "metadata": {},
   "outputs": [],
   "source": [
    "#default argument\n",
    "class Mobile():\n",
    "    def __init__(self,brand,color,screensize,memory,ram,price = \"42000\",camera = \"16pixels\"):\n",
    "        self.brand = brand\n",
    "        self.color=color\n",
    "        self.screensize=screensize\n",
    "        self.memory=memory\n",
    "        self.price=price\n",
    "        self.camera=camera\n",
    "        self.ram=ram\n",
    "    def receivecall(self):\n",
    "        print(f\"{self.brand} Mobile is ringing\")\n",
    "    def dialcall(self):\n",
    "        print(\"Mobile is dialing\")\n",
    "    def readmessage(self):\n",
    "        print(\"Message is reading\")\n",
    "    def writemessage(self):\n",
    "        print(\"Message is writing\")\n",
    "    def receivemessage(self):\n",
    "        print(\"Message is received\")\n",
    "    def presskeypad(self):\n",
    "        print(\"Keypad is on\")\n",
    "\n",
    "\n"
   ]
  },
  {
   "cell_type": "code",
   "execution_count": 25,
   "metadata": {},
   "outputs": [],
   "source": [
    "mobile2 = Mobile(\"Nokia\",\"Blue\",\"6.1 inches\",\"32GB\",\"4GB\")"
   ]
  },
  {
   "cell_type": "code",
   "execution_count": 26,
   "metadata": {},
   "outputs": [
    {
     "ename": "AttributeError",
     "evalue": "'Mobile' object has no attribute 'camera'",
     "output_type": "error",
     "traceback": [
      "\u001b[1;31m---------------------------------------------------------------------------\u001b[0m",
      "\u001b[1;31mAttributeError\u001b[0m                            Traceback (most recent call last)",
      "\u001b[1;32m<ipython-input-26-170c3d4efc24>\u001b[0m in \u001b[0;36m<module>\u001b[1;34m()\u001b[0m\n\u001b[1;32m----> 1\u001b[1;33m \u001b[0mmobile2\u001b[0m\u001b[1;33m.\u001b[0m\u001b[0mcamera\u001b[0m\u001b[1;33m\u001b[0m\u001b[0m\n\u001b[0m",
      "\u001b[1;31mAttributeError\u001b[0m: 'Mobile' object has no attribute 'camera'"
     ]
    }
   ],
   "source": [
    "mobile2.camera"
   ]
  },
  {
   "cell_type": "code",
   "execution_count": 57,
   "metadata": {},
   "outputs": [
    {
     "name": "stdout",
     "output_type": "stream",
     "text": [
      "Nokia Mobile is ringing\n"
     ]
    }
   ],
   "source": [
    "mobile2.receivecall()  #jis object ka refernece hoga uski value show kreyga self."
   ]
  },
  {
   "cell_type": "code",
   "execution_count": 58,
   "metadata": {},
   "outputs": [
    {
     "name": "stdout",
     "output_type": "stream",
     "text": [
      "Samsung Mobile is ringing\n",
      "Nokia Mobile is ringing\n"
     ]
    }
   ],
   "source": [
    "mobile1.receivecall()  #defined two different brands on same variable because objects are different.\n",
    "mobile2.receivecall()"
   ]
  },
  {
   "cell_type": "code",
   "execution_count": 104,
   "metadata": {},
   "outputs": [],
   "source": [
    "class SmartMobile(Mobile):\n",
    "    pass"
   ]
  },
  {
   "cell_type": "code",
   "execution_count": 106,
   "metadata": {},
   "outputs": [
    {
     "data": {
      "text/plain": [
       "'Golden'"
      ]
     },
     "execution_count": 106,
     "metadata": {},
     "output_type": "execute_result"
    }
   ],
   "source": [
    "obj5 = SmartMobile(\"Oppo\",\"Golden\",\"5.1 inches\",\"28GB\",\"4GB\")   #it inherit all the attributes of mobile class\n",
    "obj5.color"
   ]
  },
  {
   "cell_type": "code",
   "execution_count": 92,
   "metadata": {},
   "outputs": [],
   "source": [
    "class Student():\n",
    "    def __init__(self,name,gender,course,email):\n",
    "        self.name = name\n",
    "        self.gender = gender\n",
    "        self.course = course\n",
    "        self.email = email\n",
    "        self.section = \"B-Section\"\n",
    "    def admission(self):\n",
    "        print(f\"{self.name} is taking Admission in {self.course} Course\")\n",
    "    def student_profile(self):\n",
    "        print(f\"{self.name} is {self.gender} and Email Address is {self.email}\")\n",
    "    def getSection(self):\n",
    "        print(f\"Student Section is {self.section}\")\n",
    "        \n",
    "    def setSection(self,section):\n",
    "        self.section = section\n",
    "    def study(self):\n",
    "        print(f\"{self.name} is studying in {self.section}\")\n",
    "    def exam(self):\n",
    "        print(f\"{self.name} is giving exam\")\n",
    "    def assignment(self):\n",
    "        print(f\"{self.name} is submiting assignement of {self.course}\")"
   ]
  },
  {
   "cell_type": "code",
   "execution_count": 96,
   "metadata": {},
   "outputs": [],
   "source": [
    "student1 = Student(\"Ayesha Noor\",\"Female\",\"Programming\",\"aisha.noor.bhatti@gmail.com\")\n",
    "student2 = Student(\"Shayan M Khan\",\"Male\",\"Pakistan Studies\",\"shayanmuhammadkhan@gmail.com\")"
   ]
  },
  {
   "cell_type": "code",
   "execution_count": 97,
   "metadata": {},
   "outputs": [
    {
     "name": "stdout",
     "output_type": "stream",
     "text": [
      "Ayesha Noor is taking Admission in Programming Course\n",
      "Student Section is C-Section\n",
      "Ayesha Noor is studying in C-Section\n",
      "Ayesha Noor is Female and Email Address is aisha.noor.bhatti@gmail.com\n",
      "Ayesha Noor is submiting assignement of Programming\n"
     ]
    },
    {
     "data": {
      "text/plain": [
       "'Programming'"
      ]
     },
     "execution_count": 97,
     "metadata": {},
     "output_type": "execute_result"
    }
   ],
   "source": [
    "student1.admission()\n",
    "student1.setSection(\"C-Section\")\n",
    "student1.getSection()\n",
    "student1.study()\n",
    "student1.student_profile()\n",
    "student1.assignment()\n",
    "student1.course"
   ]
  },
  {
   "cell_type": "code",
   "execution_count": 86,
   "metadata": {},
   "outputs": [
    {
     "name": "stdout",
     "output_type": "stream",
     "text": [
      "Shayan M Khan is taking Admission in Pakistan Studies Course\n",
      "Shayan M Khan is studying in B-Section\n",
      "Shayan M Khan is Male and Email Address is shayanmuhammadkhan@gmail.com\n",
      "Shayan M Khan is submiting assignement of Pakistan Studies\n"
     ]
    },
    {
     "data": {
      "text/plain": [
       "'Pakistan Studies'"
      ]
     },
     "execution_count": 86,
     "metadata": {},
     "output_type": "execute_result"
    }
   ],
   "source": [
    "student2.admission()\n",
    "student2.study()\n",
    "student2.student_profile()\n",
    "student2.assignment()\n",
    "student2.course"
   ]
  },
  {
   "cell_type": "code",
   "execution_count": null,
   "metadata": {},
   "outputs": [],
   "source": []
  },
  {
   "cell_type": "code",
   "execution_count": null,
   "metadata": {},
   "outputs": [],
   "source": []
  },
  {
   "cell_type": "code",
   "execution_count": null,
   "metadata": {},
   "outputs": [],
   "source": []
  },
  {
   "cell_type": "code",
   "execution_count": 87,
   "metadata": {},
   "outputs": [],
   "source": [
    "class Resturant():\n",
    "    def __init__(self,resturant_name,cuisine_type):\n",
    "        self.resturant_name = resturant_name\n",
    "        self.cuisine_type = cuisine_type\n",
    "    def describe_resturant(self):\n",
    "        print(\"Resturant Name is: \"+self.resturant_name)\n",
    "        print(\"Cuisine Type \"+self.cuisine_type)\n",
    "    def open_resturant(self):\n",
    "            print(\"Resturant is Open\")"
   ]
  },
  {
   "cell_type": "code",
   "execution_count": 15,
   "metadata": {},
   "outputs": [
    {
     "name": "stdout",
     "output_type": "stream",
     "text": [
      "Resturant Name is: Al-Mehran\n",
      "Cuisine Type Italian\n",
      "Resturant is Open\n"
     ]
    }
   ],
   "source": [
    "obj1 = Resturant(\"Al-Mehran\",\"Italian\")\n",
    "obj1.describe_resturant()\n",
    "obj1.open_resturant()"
   ]
  },
  {
   "cell_type": "code",
   "execution_count": 13,
   "metadata": {},
   "outputs": [
    {
     "name": "stdout",
     "output_type": "stream",
     "text": [
      "Resturant Name is: KFC\n",
      "Cuisine Type Fast Food\n",
      "Resturant is Open\n",
      "\n",
      "\n",
      "Resturant Name is: Shaheen-Shinwar\n",
      "Cuisine Type Desi Cuisine\n",
      "Resturant is Open\n",
      "\n",
      "\n",
      "Resturant Name is: Ginsoy\n",
      "Cuisine Type Chinese Food\n",
      "Resturant is Open\n"
     ]
    }
   ],
   "source": [
    "obj1 = Resturant(\"KFC\",\"Fast Food\")\n",
    "obj1.describe_resturant()\n",
    "print(\"\\n\")\n",
    "obj2 = Resturant(\"Shaheen-Shinwar\",\"Desi Cuisine\")\n",
    "obj2.describe_resturant()\n",
    "print(\"\\n\")\n",
    "obj3 = Resturant(\"Ginsoy\",\"Chinese Food\")\n",
    "obj3.describe_resturant()\n"
   ]
  },
  {
   "cell_type": "code",
   "execution_count": 6,
   "metadata": {},
   "outputs": [],
   "source": [
    "class Users():\n",
    "    def __init__(self,first_name,last_name,age,number):\n",
    "        self.first_name = first_name\n",
    "        self.last_name = last_name\n",
    "        self.age = age\n",
    "        self.number = number\n",
    "    def describe1_user(self):\n",
    "        print(f\"User Name is: {self.first_name} {self.last_name}\")\n",
    "        print(f\"User age is: {self.age}\")\n",
    "        print(f\"User Number is: {self.number}\")\n",
    "    def greet_user(self):\n",
    "        print(f\"Welcome to Our Resturant {self.first_name} {self.last_name}\")\n",
    "    \n",
    "    "
   ]
  },
  {
   "cell_type": "code",
   "execution_count": 7,
   "metadata": {},
   "outputs": [
    {
     "name": "stdout",
     "output_type": "stream",
     "text": [
      "User Name is: Ayesha Noor\n",
      "User age is: 18\n",
      "User Number is: 923456783\n",
      "Welcome to Our Resturant Ayesha Noor\n",
      "\n",
      "\n",
      "User Name is: Abdullah Ejaz\n",
      "User age is: 25\n",
      "User Number is: 9235656783\n",
      "Welcome to Our Resturant Abdullah Ejaz\n"
     ]
    }
   ],
   "source": [
    "obj5 = Users(\"Ayesha\",\"Noor\",18,923456783)\n",
    "obj5.describe1_user()\n",
    "obj5.greet_user()\n",
    "print(\"\\n\")\n",
    "\n",
    "objb = Users(\"Abdullah\",\"Ejaz\",25,9235656783)\n",
    "objb.describe1_user()\n",
    "objb.greet_user()\n"
   ]
  },
  {
   "cell_type": "markdown",
   "metadata": {},
   "source": [
    "# Inheritance"
   ]
  },
  {
   "cell_type": "code",
   "execution_count": 21,
   "metadata": {},
   "outputs": [],
   "source": [
    "class myfirstname():\n",
    "    def __init__(self,firstname):\n",
    "        self.firstname = firstname\n",
    "    def fname(self):\n",
    "        print(f\"my first name is {self.firstname}\")\n",
    "\n",
    "class myfullname(myfirstname):\n",
    "    def __init__(self,lastname):\n",
    "        self.myfirstname = myfirstname(\"Ayesha\")\n",
    "        self.lastname = lastname\n",
    "    def fullname(self):\n",
    "        print(f\"my fullname is {self.myfirstname.firstname} {self.lastname}\")\n",
    "    "
   ]
  },
  {
   "cell_type": "code",
   "execution_count": 22,
   "metadata": {},
   "outputs": [
    {
     "name": "stdout",
     "output_type": "stream",
     "text": [
      "my first name is Ayesha\n"
     ]
    }
   ],
   "source": [
    "obj = myfirstname(\"Ayesha\")\n",
    "obj.fname()"
   ]
  },
  {
   "cell_type": "code",
   "execution_count": 23,
   "metadata": {},
   "outputs": [
    {
     "name": "stdout",
     "output_type": "stream",
     "text": [
      "my fullname is Ayesha Noor\n"
     ]
    }
   ],
   "source": [
    "obj2 = myfullname(\"Noor\")\n",
    "obj2.fullname()"
   ]
  },
  {
   "cell_type": "code",
   "execution_count": 116,
   "metadata": {},
   "outputs": [
    {
     "data": {
      "text/plain": [
       "1"
      ]
     },
     "execution_count": 116,
     "metadata": {},
     "output_type": "execute_result"
    }
   ],
   "source": [
    "7%2"
   ]
  },
  {
   "cell_type": "code",
   "execution_count": 117,
   "metadata": {},
   "outputs": [
    {
     "data": {
      "text/plain": [
       "1"
      ]
     },
     "execution_count": 117,
     "metadata": {},
     "output_type": "execute_result"
    }
   ],
   "source": [
    "16%15"
   ]
  },
  {
   "cell_type": "code",
   "execution_count": null,
   "metadata": {},
   "outputs": [],
   "source": [
    "print('{0:2}')"
   ]
  },
  {
   "cell_type": "code",
   "execution_count": 29,
   "metadata": {},
   "outputs": [],
   "source": [
    "class Car():\n",
    "    def __init__(self, make, model, year):\n",
    "        self.make = make\n",
    "        self.model = model\n",
    "        self.year = year\n",
    "        self.battery = 100\n",
    "    def describeCar(self):\n",
    "        print(f\"The car make {self.make}\")\n",
    "        print(f\"The Model of the car is: {self.model}\")\n",
    "        print(f\"The year of car is: {self.year}\")\n",
    "    def getBattery(self):\n",
    "        print(\"The battery size is {self.battery}\")\n",
    "    def setBattery(self,battery):\n",
    "        self.battery = battery"
   ]
  },
  {
   "cell_type": "code",
   "execution_count": 30,
   "metadata": {},
   "outputs": [],
   "source": [
    "class ElectricCar(Car):\n",
    "    pass"
   ]
  },
  {
   "cell_type": "code",
   "execution_count": 31,
   "metadata": {},
   "outputs": [],
   "source": [
    "eCar1 = ElectricCar(\"Civic\",\"MyCar\",2019)"
   ]
  },
  {
   "cell_type": "code",
   "execution_count": 32,
   "metadata": {},
   "outputs": [
    {
     "name": "stdout",
     "output_type": "stream",
     "text": [
      "The car make Civic\n",
      "The Model of the car is: MyCar\n",
      "The year of car is: 2019\n"
     ]
    }
   ],
   "source": [
    "eCar1.describeCar()"
   ]
  },
  {
   "cell_type": "code",
   "execution_count": 33,
   "metadata": {},
   "outputs": [],
   "source": [
    "#here we create another battery class\n",
    "class Battery():\n",
    "    def __init__(self,manu,amp,warranty,price,size):\n",
    "        self.manu = manu\n",
    "        self.amp = amp\n",
    "        self.warranty = warranty\n",
    "        self.price = price\n",
    "        self.size = size\n",
    "    def getBattery(self):\n",
    "        print(f\"The battery size is {self.size}\")\n",
    "    def setBattery(self,newsize):\n",
    "        self.size = newsize"
   ]
  },
  {
   "cell_type": "code",
   "execution_count": 34,
   "metadata": {},
   "outputs": [],
   "source": [
    "class Car():\n",
    "    def __init__(self,make,model,year):\n",
    "        self.make = make\n",
    "        self.model = model\n",
    "        self.year = year\n",
    "        self.battery = Battery(\"AGS\",\"1.2amp\",\"2 years\",22000,32)\n",
    "    def describeCar(self):\n",
    "        print(f\"Make is {self.make}, Model is {self.model},Year is {self.year}, Battery is {self.battery.size}\")"
   ]
  },
  {
   "cell_type": "code",
   "execution_count": 35,
   "metadata": {},
   "outputs": [],
   "source": [
    "class Ecar(Car):\n",
    "    pass"
   ]
  },
  {
   "cell_type": "code",
   "execution_count": 36,
   "metadata": {},
   "outputs": [],
   "source": [
    "ecar1 = Ecar(\"Toyota\",\"dodo\",2019)"
   ]
  },
  {
   "cell_type": "code",
   "execution_count": 37,
   "metadata": {},
   "outputs": [
    {
     "name": "stdout",
     "output_type": "stream",
     "text": [
      "Make is Toyota, Model is dodo,Year is 2019, Battery is 32\n"
     ]
    }
   ],
   "source": [
    "ecar1.describeCar()"
   ]
  },
  {
   "cell_type": "code",
   "execution_count": 32,
   "metadata": {},
   "outputs": [
    {
     "name": "stdout",
     "output_type": "stream",
     "text": [
      "The battery size is 32\n"
     ]
    }
   ],
   "source": [
    "ecar1.battery.getBattery()"
   ]
  },
  {
   "cell_type": "code",
   "execution_count": null,
   "metadata": {},
   "outputs": [],
   "source": []
  },
  {
   "cell_type": "code",
   "execution_count": 4,
   "metadata": {},
   "outputs": [
    {
     "ename": "NameError",
     "evalue": "name 'Mobile' is not defined",
     "output_type": "error",
     "traceback": [
      "\u001b[1;31m---------------------------------------------------------------------------\u001b[0m",
      "\u001b[1;31mNameError\u001b[0m                                 Traceback (most recent call last)",
      "\u001b[1;32m<ipython-input-4-e5926f0599b5>\u001b[0m in \u001b[0;36m<module>\u001b[1;34m()\u001b[0m\n\u001b[1;32m----> 1\u001b[1;33m \u001b[1;32mclass\u001b[0m \u001b[0mSmartMobile\u001b[0m\u001b[1;33m(\u001b[0m\u001b[0mMobile\u001b[0m\u001b[1;33m)\u001b[0m\u001b[1;33m:\u001b[0m\u001b[1;33m\u001b[0m\u001b[0m\n\u001b[0m\u001b[0;32m      2\u001b[0m     \u001b[1;32mdef\u001b[0m \u001b[0m__init__\u001b[0m\u001b[1;33m(\u001b[0m\u001b[0mself\u001b[0m\u001b[1;33m,\u001b[0m\u001b[0mbrand\u001b[0m\u001b[1;33m,\u001b[0m\u001b[0mcolor\u001b[0m\u001b[1;33m,\u001b[0m\u001b[0mscreensize\u001b[0m\u001b[1;33m,\u001b[0m\u001b[0mmemory\u001b[0m\u001b[1;33m,\u001b[0m\u001b[0mram\u001b[0m\u001b[1;33m,\u001b[0m\u001b[0mprice\u001b[0m\u001b[1;33m,\u001b[0m\u001b[0mcamera\u001b[0m\u001b[1;33m)\u001b[0m\u001b[1;33m:\u001b[0m\u001b[1;33m\u001b[0m\u001b[0m\n\u001b[0;32m      3\u001b[0m         \u001b[0msuper\u001b[0m\u001b[1;33m(\u001b[0m\u001b[1;33m)\u001b[0m\u001b[1;33m.\u001b[0m\u001b[0m__init__\u001b[0m\u001b[1;33m(\u001b[0m\u001b[0mself\u001b[0m\u001b[1;33m,\u001b[0m\u001b[0mbrand\u001b[0m\u001b[1;33m,\u001b[0m\u001b[0mcolor\u001b[0m\u001b[1;33m,\u001b[0m\u001b[0mscreensize\u001b[0m\u001b[1;33m,\u001b[0m\u001b[0mmemory\u001b[0m\u001b[1;33m,\u001b[0m\u001b[0mram\u001b[0m\u001b[1;33m,\u001b[0m\u001b[0mprice\u001b[0m\u001b[1;33m,\u001b[0m\u001b[0mcamera\u001b[0m\u001b[1;33m)\u001b[0m\u001b[1;33m\u001b[0m\u001b[0m\n\u001b[0;32m      4\u001b[0m         \u001b[0mself\u001b[0m\u001b[1;33m.\u001b[0m\u001b[0mbattery\u001b[0m \u001b[1;33m=\u001b[0m \u001b[1;34m\"10amp\"\u001b[0m\u001b[1;33m\u001b[0m\u001b[0m\n\u001b[0;32m      5\u001b[0m     \u001b[1;32mdef\u001b[0m \u001b[0mcamera\u001b[0m\u001b[1;33m(\u001b[0m\u001b[0mself\u001b[0m\u001b[1;33m)\u001b[0m\u001b[1;33m:\u001b[0m\u001b[1;33m\u001b[0m\u001b[0m\n",
      "\u001b[1;31mNameError\u001b[0m: name 'Mobile' is not defined"
     ]
    }
   ],
   "source": [
    "class SmartMobile(Mobile):\n",
    "    def __init__(self,brand,color,screensize,memory,ram,price,camera):\n",
    "        super().__init__(self,brand,color,screensize,memory,ram,price,camera)\n",
    "        self.battery = \"10amp\"\n",
    "    def camera(self):\n",
    "        print(\"Smart Camera is ON\")\n",
    "    #def presskeypad(self):     \n",
    "     #   print(\"Their is no keypad in smartphone\")"
   ]
  },
  {
   "cell_type": "code",
   "execution_count": 115,
   "metadata": {},
   "outputs": [
    {
     "ename": "TypeError",
     "evalue": "__init__() takes from 6 to 8 positional arguments but 9 were given",
     "output_type": "error",
     "traceback": [
      "\u001b[1;31m---------------------------------------------------------------------------\u001b[0m",
      "\u001b[1;31mTypeError\u001b[0m                                 Traceback (most recent call last)",
      "\u001b[1;32m<ipython-input-115-7e070f67827f>\u001b[0m in \u001b[0;36m<module>\u001b[1;34m()\u001b[0m\n\u001b[1;32m----> 1\u001b[1;33m \u001b[0mobjj\u001b[0m \u001b[1;33m=\u001b[0m \u001b[0mSmartMobile\u001b[0m\u001b[1;33m(\u001b[0m\u001b[1;34m\"Nokia\"\u001b[0m\u001b[1;33m,\u001b[0m\u001b[1;34m\"black\"\u001b[0m\u001b[1;33m,\u001b[0m\u001b[1;34m\"3.5\"\u001b[0m\u001b[1;33m,\u001b[0m\u001b[1;34m\"32gb\"\u001b[0m\u001b[1;33m,\u001b[0m\u001b[1;34m\"4GB\"\u001b[0m\u001b[1;33m,\u001b[0m\u001b[1;34m\"34888\"\u001b[0m\u001b[1;33m,\u001b[0m\u001b[1;34m\"12pixel\"\u001b[0m\u001b[1;33m)\u001b[0m\u001b[1;33m\u001b[0m\u001b[0m\n\u001b[0m",
      "\u001b[1;32m<ipython-input-113-d81e9982ffa7>\u001b[0m in \u001b[0;36m__init__\u001b[1;34m(self, brand, color, screensize, memory, ram, price, camera)\u001b[0m\n\u001b[0;32m      1\u001b[0m \u001b[1;32mclass\u001b[0m \u001b[0mSmartMobile\u001b[0m\u001b[1;33m(\u001b[0m\u001b[0mMobile\u001b[0m\u001b[1;33m)\u001b[0m\u001b[1;33m:\u001b[0m\u001b[1;33m\u001b[0m\u001b[0m\n\u001b[0;32m      2\u001b[0m     \u001b[1;32mdef\u001b[0m \u001b[0m__init__\u001b[0m\u001b[1;33m(\u001b[0m\u001b[0mself\u001b[0m\u001b[1;33m,\u001b[0m\u001b[0mbrand\u001b[0m\u001b[1;33m,\u001b[0m\u001b[0mcolor\u001b[0m\u001b[1;33m,\u001b[0m\u001b[0mscreensize\u001b[0m\u001b[1;33m,\u001b[0m\u001b[0mmemory\u001b[0m\u001b[1;33m,\u001b[0m\u001b[0mram\u001b[0m\u001b[1;33m,\u001b[0m\u001b[0mprice\u001b[0m\u001b[1;33m,\u001b[0m\u001b[0mcamera\u001b[0m\u001b[1;33m)\u001b[0m\u001b[1;33m:\u001b[0m\u001b[1;33m\u001b[0m\u001b[0m\n\u001b[1;32m----> 3\u001b[1;33m         \u001b[0msuper\u001b[0m\u001b[1;33m(\u001b[0m\u001b[1;33m)\u001b[0m\u001b[1;33m.\u001b[0m\u001b[0m__init__\u001b[0m\u001b[1;33m(\u001b[0m\u001b[0mself\u001b[0m\u001b[1;33m,\u001b[0m\u001b[0mbrand\u001b[0m\u001b[1;33m,\u001b[0m\u001b[0mcolor\u001b[0m\u001b[1;33m,\u001b[0m\u001b[0mscreensize\u001b[0m\u001b[1;33m,\u001b[0m\u001b[0mmemory\u001b[0m\u001b[1;33m,\u001b[0m\u001b[0mram\u001b[0m\u001b[1;33m,\u001b[0m\u001b[0mprice\u001b[0m\u001b[1;33m,\u001b[0m\u001b[0mcamera\u001b[0m\u001b[1;33m)\u001b[0m\u001b[1;33m\u001b[0m\u001b[0m\n\u001b[0m\u001b[0;32m      4\u001b[0m         \u001b[0mself\u001b[0m\u001b[1;33m.\u001b[0m\u001b[0mbattery\u001b[0m \u001b[1;33m=\u001b[0m \u001b[1;34m\"10amp\"\u001b[0m\u001b[1;33m\u001b[0m\u001b[0m\n\u001b[0;32m      5\u001b[0m     \u001b[1;32mdef\u001b[0m \u001b[0mcamera\u001b[0m\u001b[1;33m(\u001b[0m\u001b[0mself\u001b[0m\u001b[1;33m)\u001b[0m\u001b[1;33m:\u001b[0m\u001b[1;33m\u001b[0m\u001b[0m\n",
      "\u001b[1;31mTypeError\u001b[0m: __init__() takes from 6 to 8 positional arguments but 9 were given"
     ]
    }
   ],
   "source": [
    "objj = SmartMobile(\"Nokia\",\"black\",\"3.5\",\"32gb\",\"4GB\",\"34888\",\"12pixel\")"
   ]
  }
 ],
 "metadata": {
  "kernelspec": {
   "display_name": "Python 3",
   "language": "python",
   "name": "python3"
  },
  "language_info": {
   "codemirror_mode": {
    "name": "ipython",
    "version": 3
   },
   "file_extension": ".py",
   "mimetype": "text/x-python",
   "name": "python",
   "nbconvert_exporter": "python",
   "pygments_lexer": "ipython3",
   "version": "3.7.0"
  }
 },
 "nbformat": 4,
 "nbformat_minor": 2
}
