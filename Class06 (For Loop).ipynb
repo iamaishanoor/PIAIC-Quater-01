{
 "cells": [
  {
   "cell_type": "markdown",
   "metadata": {},
   "source": [
    "# For Loop"
   ]
  },
  {
   "cell_type": "code",
   "execution_count": null,
   "metadata": {},
   "outputs": [],
   "source": [
    "#for loop helps us to maintain code complexity and time complexity.\n",
    "#here we use range function of python to give the limitation of forloop\n",
    "#range function starts its value from 0\n",
    "#There are three keyword of for loop.\n",
    "#Break\n",
    "#Continue\n",
    "#to stop loop we use break and continue\n",
    "#Pass"
   ]
  },
  {
   "cell_type": "code",
   "execution_count": 4,
   "metadata": {},
   "outputs": [
    {
     "name": "stdout",
     "output_type": "stream",
     "text": [
      "0 My name is Ayesha\n",
      "1 My name is Ayesha\n",
      "2 My name is Ayesha\n",
      "3 My name is Ayesha\n"
     ]
    }
   ],
   "source": [
    "for i in range(4):\n",
    "    print(f\"{i} My name is Ayesha\")"
   ]
  },
  {
   "cell_type": "code",
   "execution_count": 14,
   "metadata": {},
   "outputs": [
    {
     "name": "stdout",
     "output_type": "stream",
     "text": [
      "2 My name is Ayesha\n",
      "3 My name is Ayesha\n",
      "4 My name is Ayesha\n",
      "5 My name is Ayesha\n",
      "6 My name is Ayesha\n",
      "7 My name is Ayesha\n"
     ]
    }
   ],
   "source": [
    "for i in range(2,8):\n",
    "    print(f\"{i} My name is Ayesha\")"
   ]
  },
  {
   "cell_type": "code",
   "execution_count": 15,
   "metadata": {},
   "outputs": [
    {
     "name": "stdout",
     "output_type": "stream",
     "text": [
      "0 My name is Ayesha\n",
      "2 My name is Ayesha\n",
      "4 My name is Ayesha\n",
      "6 My name is Ayesha\n",
      "8 My name is Ayesha\n"
     ]
    }
   ],
   "source": [
    "for i in range(0,10,2):\n",
    "    print(f\"{i} My name is Ayesha\")"
   ]
  },
  {
   "cell_type": "code",
   "execution_count": 8,
   "metadata": {},
   "outputs": [
    {
     "name": "stdout",
     "output_type": "stream",
     "text": [
      "0 2 4 6 8 10 "
     ]
    }
   ],
   "source": [
    "#for even sequence\n",
    "for i in range(0,11,2):\n",
    "    print(i, end = \" \")"
   ]
  },
  {
   "cell_type": "code",
   "execution_count": 29,
   "metadata": {},
   "outputs": [
    {
     "name": "stdout",
     "output_type": "stream",
     "text": [
      "1\n",
      "3\n",
      "5\n",
      "7\n",
      "9\n"
     ]
    }
   ],
   "source": [
    "#for odd sequence\n",
    "for i in range(1,10,2):\n",
    "    print(i)"
   ]
  },
  {
   "cell_type": "code",
   "execution_count": 20,
   "metadata": {},
   "outputs": [
    {
     "name": "stdout",
     "output_type": "stream",
     "text": [
      "10\n",
      "9\n",
      "8\n",
      "7\n",
      "6\n",
      "5\n",
      "4\n",
      "3\n",
      "2\n"
     ]
    }
   ],
   "source": [
    "#for reverse sequence\n",
    "for i in range(10,1,-1):\n",
    "    print(i)"
   ]
  },
  {
   "cell_type": "code",
   "execution_count": 2,
   "metadata": {},
   "outputs": [
    {
     "name": "stdout",
     "output_type": "stream",
     "text": [
      "10\n",
      "8\n",
      "6\n",
      "4\n",
      "2\n",
      "0\n"
     ]
    }
   ],
   "source": [
    "#for reverse even sequence\n",
    "for i in range(10,-1,-2):\n",
    "    print(i)"
   ]
  },
  {
   "cell_type": "code",
   "execution_count": 27,
   "metadata": {},
   "outputs": [
    {
     "name": "stdout",
     "output_type": "stream",
     "text": [
      "9\n",
      "7\n",
      "5\n",
      "3\n",
      "1\n"
     ]
    }
   ],
   "source": [
    "#for reverse odd sequence\n",
    "for i in range(9,0,-2):\n",
    "    print(i)"
   ]
  },
  {
   "cell_type": "markdown",
   "metadata": {},
   "source": [
    "# Loops in List"
   ]
  },
  {
   "cell_type": "code",
   "execution_count": 3,
   "metadata": {},
   "outputs": [
    {
     "name": "stdout",
     "output_type": "stream",
     "text": [
      "Ayesha\n",
      "Sana\n",
      "Maria\n",
      "Salman\n",
      "Ahmed\n"
     ]
    }
   ],
   "source": [
    "my_list = [\"Ayesha\", \"Sana\",\"Maria\", \"Salman\",\"Ahmed\"]\n",
    "for i in my_list:\n",
    "    print(i)"
   ]
  },
  {
   "cell_type": "code",
   "execution_count": 5,
   "metadata": {},
   "outputs": [
    {
     "name": "stdout",
     "output_type": "stream",
     "text": [
      "['Ayesha', 'Sana', 'Maria', 'Salman', 'Ahmed']\n"
     ]
    }
   ],
   "source": [
    "my_list = [\"Ayesha\", \"Sana\",\"Maria\", \"Salman\",\"Ahmed\"]\n",
    "new_list = []\n",
    "for i in my_list:\n",
    "    new_list.append(i)\n",
    "print(new_list)"
   ]
  },
  {
   "cell_type": "code",
   "execution_count": 35,
   "metadata": {},
   "outputs": [
    {
     "name": "stdout",
     "output_type": "stream",
     "text": [
      "[4, 8, 12, 16, 20]\n"
     ]
    }
   ],
   "source": [
    "my_num = [2,4,6,8,10]\n",
    "new_list = []\n",
    "for i in my_num:\n",
    "    new_list.append(i * 2)\n",
    "print(new_list)"
   ]
  },
  {
   "cell_type": "code",
   "execution_count": 7,
   "metadata": {},
   "outputs": [
    {
     "name": "stdout",
     "output_type": "stream",
     "text": [
      "[2, 4, 6, 8, 10]\n"
     ]
    }
   ],
   "source": [
    "even_list = [1,2,3,4,5,6,7,8,9,10]\n",
    "new_list = []\n",
    "for i in even_list:\n",
    "    if i%2 == 0:\n",
    "        new_list.append(i)\n",
    "print(new_list)"
   ]
  },
  {
   "cell_type": "code",
   "execution_count": 44,
   "metadata": {},
   "outputs": [
    {
     "name": "stdout",
     "output_type": "stream",
     "text": [
      "0\n",
      "1\n",
      "2\n"
     ]
    }
   ],
   "source": [
    "for i in range(10):    #in break the loop will stops when it gets 3\n",
    "    if i == 3:        i -0 i --2 i===3\n",
    "        break\n",
    "    else:\n",
    "        print(i)"
   ]
  },
  {
   "cell_type": "code",
   "execution_count": 54,
   "metadata": {},
   "outputs": [
    {
     "name": "stdout",
     "output_type": "stream",
     "text": [
      "0\n",
      "1\n",
      "2\n",
      "4\n",
      "5\n",
      "6\n",
      "8\n",
      "9\n"
     ]
    }
   ],
   "source": [
    "for i in range(10):   #in continue the loop skips 3 and then again continue\n",
    "    if i == 3 or i ==7:\n",
    "        continue\n",
    "    else:\n",
    "        print(i)"
   ]
  },
  {
   "cell_type": "code",
   "execution_count": 8,
   "metadata": {},
   "outputs": [
    {
     "name": "stdout",
     "output_type": "stream",
     "text": [
      "0\n",
      "1\n",
      "2\n",
      "3\n",
      "4\n",
      "5\n",
      "6\n",
      "7\n",
      "8\n",
      "9\n"
     ]
    }
   ],
   "source": [
    "for i in range(10):\n",
    "    if i=='s':\n",
    "        pass\n",
    "    else:\n",
    "        print(i)"
   ]
  },
  {
   "cell_type": "code",
   "execution_count": 57,
   "metadata": {},
   "outputs": [
    {
     "name": "stdout",
     "output_type": "stream",
     "text": [
      "Enter the number of Table: 2\n",
      "2 * 1 = 2\n",
      "2 * 2 = 4\n",
      "2 * 3 = 6\n",
      "2 * 4 = 8\n",
      "2 * 5 = 10\n",
      "2 * 6 = 12\n",
      "2 * 7 = 14\n",
      "2 * 8 = 16\n",
      "2 * 9 = 18\n",
      "2 * 10 = 20\n"
     ]
    }
   ],
   "source": [
    "#Print the table\n",
    "number = int(input(\"Enter the number of Table: \"))\n",
    "for i in range(1,11):\n",
    "    ans = number * i\n",
    "    print(f\"{number} * {i} = {ans}\")\n",
    "    "
   ]
  },
  {
   "cell_type": "markdown",
   "metadata": {},
   "source": [
    "# Using Loop on String\n"
   ]
  },
  {
   "cell_type": "code",
   "execution_count": 9,
   "metadata": {},
   "outputs": [
    {
     "name": "stdout",
     "output_type": "stream",
     "text": [
      "s\n",
      "h\n",
      "a\n",
      "y\n",
      "a\n",
      "n\n"
     ]
    }
   ],
   "source": [
    "for i in \"shayan\":\n",
    "    print(i)"
   ]
  },
  {
   "cell_type": "code",
   "execution_count": 60,
   "metadata": {},
   "outputs": [
    {
     "name": "stdout",
     "output_type": "stream",
     "text": [
      "P 0\n",
      "P 1\n",
      "P 2\n",
      "P 3\n",
      "P 4\n",
      "a 0\n",
      "a 1\n",
      "a 2\n",
      "a 3\n",
      "a 4\n",
      "k 0\n",
      "k 1\n",
      "k 2\n",
      "k 3\n",
      "k 4\n",
      "i 0\n",
      "i 1\n",
      "i 2\n",
      "i 3\n",
      "i 4\n",
      "s 0\n",
      "s 1\n",
      "s 2\n",
      "s 3\n",
      "s 4\n",
      "t 0\n",
      "t 1\n",
      "t 2\n",
      "t 3\n",
      "t 4\n",
      "a 0\n",
      "a 1\n",
      "a 2\n",
      "a 3\n",
      "a 4\n",
      "n 0\n",
      "n 1\n",
      "n 2\n",
      "n 3\n",
      "n 4\n"
     ]
    }
   ],
   "source": [
    "for i in \"Pakistan\":    #Inner Loop\n",
    "    for j in range(5): #Outer Loop\n",
    "        print(i,j)"
   ]
  },
  {
   "cell_type": "code",
   "execution_count": 68,
   "metadata": {},
   "outputs": [
    {
     "name": "stdout",
     "output_type": "stream",
     "text": [
      "['Ayesha Noor', 'Ayesha Syed', 'Ayesha Khan', 'Ayesha Aijaz', 'Ayesha Ejaz', 'Aaliya Noor', 'Aaliya Syed', 'Aaliya Khan', 'Aaliya Aijaz', 'Aaliya Ejaz', 'Shayan Noor', 'Shayan Syed', 'Shayan Khan', 'Shayan Aijaz', 'Shayan Ejaz', 'Sundus Noor', 'Sundus Syed', 'Sundus Khan', 'Sundus Aijaz', 'Sundus Ejaz', 'Abdullah Noor', 'Abdullah Syed', 'Abdullah Khan', 'Abdullah Aijaz', 'Abdullah Ejaz']\n"
     ]
    }
   ],
   "source": [
    "first_name = [\"Ayesha\",\"Aaliya\",\"Shayan\",\"Sundus\",\"Abdullah\"]\n",
    "last_name = [\"Noor\",\"Syed\",\"Khan\",\"Aijaz\",\"Ejaz\"]\n",
    "full_name = []\n",
    "for i in first_name:\n",
    "    for j in last_name:\n",
    "        full_name.append(i + \" \"+j)\n",
    "print(full_name)\n",
    "        "
   ]
  }
 ],
 "metadata": {
  "kernelspec": {
   "display_name": "Python 3",
   "language": "python",
   "name": "python3"
  },
  "language_info": {
   "codemirror_mode": {
    "name": "ipython",
    "version": 3
   },
   "file_extension": ".py",
   "mimetype": "text/x-python",
   "name": "python",
   "nbconvert_exporter": "python",
   "pygments_lexer": "ipython3",
   "version": "3.7.0"
  }
 },
 "nbformat": 4,
 "nbformat_minor": 2
}
