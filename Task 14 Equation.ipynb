{
 "cells": [
  {
   "cell_type": "markdown",
   "metadata": {},
   "source": [
    "# Solve (x + y) * (x + y)"
   ]
  },
  {
   "cell_type": "code",
   "execution_count": 7,
   "metadata": {},
   "outputs": [
    {
     "name": "stdout",
     "output_type": "stream",
     "text": [
      "Enter value of 'X': 2\n",
      "Enter value of 'Y': 3\n",
      "The Answer of Equation (2.0 + 3.0)^2 is : 25.0\n"
     ]
    }
   ],
   "source": [
    "x = float(input(\"Enter value of 'X': \"))\n",
    "y = float(input(\"Enter value of 'Y': \"))\n",
    "equation = (x**2) + (2*x*y) + (y**2)\n",
    "print(f\"The Answer of Equation ({x} + {y})^2 is : {equation}\")"
   ]
  }
 ],
 "metadata": {
  "kernelspec": {
   "display_name": "Python 3",
   "language": "python",
   "name": "python3"
  },
  "language_info": {
   "codemirror_mode": {
    "name": "ipython",
    "version": 3
   },
   "file_extension": ".py",
   "mimetype": "text/x-python",
   "name": "python",
   "nbconvert_exporter": "python",
   "pygments_lexer": "ipython3",
   "version": "3.7.0"
  }
 },
 "nbformat": 4,
 "nbformat_minor": 2
}
