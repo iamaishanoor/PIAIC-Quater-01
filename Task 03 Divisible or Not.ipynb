{
 "cells": [
  {
   "cell_type": "markdown",
   "metadata": {},
   "source": [
    "# Check whether a Number is completely Divisible by Another"
   ]
  },
  {
   "cell_type": "code",
   "execution_count": 8,
   "metadata": {},
   "outputs": [
    {
     "name": "stdout",
     "output_type": "stream",
     "text": [
      "Enter the first Number: 5\n",
      "Enter the second Number: 2\n",
      "--------------------------------------------------------\n",
      "5.0 Number is not Divisible by Number 2.0.\n"
     ]
    }
   ],
   "source": [
    "number1 = float(input(\"Enter the first Number: \"))\n",
    "number2 = float(input(\"Enter the second Number: \"))\n",
    "print(\"--------------------------------------------------------\")\n",
    "if number1 % number2 == 0:\n",
    "    print(f\"{number1} Number is completely Divisible by Number {number2}\")\n",
    "else:\n",
    "    print(f\"{number1} Number is not Divisible by Number {number2}\")"
   ]
  }
 ],
 "metadata": {
  "kernelspec": {
   "display_name": "Python 3",
   "language": "python",
   "name": "python3"
  },
  "language_info": {
   "codemirror_mode": {
    "name": "ipython",
    "version": 3
   },
   "file_extension": ".py",
   "mimetype": "text/x-python",
   "name": "python",
   "nbconvert_exporter": "python",
   "pygments_lexer": "ipython3",
   "version": "3.7.0"
  }
 },
 "nbformat": 4,
 "nbformat_minor": 2
}
