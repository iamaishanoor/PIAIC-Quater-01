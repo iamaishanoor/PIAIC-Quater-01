{
 "cells": [
  {
   "cell_type": "markdown",
   "metadata": {},
   "source": [
    "# While Loop"
   ]
  },
  {
   "cell_type": "code",
   "execution_count": 5,
   "metadata": {},
   "outputs": [
    {
     "name": "stdout",
     "output_type": "stream",
     "text": [
      "1\n",
      "2\n",
      "3\n",
      "4\n",
      "5\n",
      "6\n",
      "7\n",
      "8\n",
      "9\n"
     ]
    }
   ],
   "source": [
    "a= 1\n",
    "while a<10:\n",
    "        print(a)\n",
    "        a = a+1"
   ]
  },
  {
   "cell_type": "code",
   "execution_count": 1,
   "metadata": {},
   "outputs": [
    {
     "name": "stdout",
     "output_type": "stream",
     "text": [
      "Enter you topping: mayo\n",
      "Enter you topping: garlic\n",
      "Enter you topping: chesse\n",
      "Enter you topping: olives\n",
      "Enter you topping: chicken\n",
      "['mayo', 'garlic', 'chesse', 'olives', 'chicken']\n"
     ]
    }
   ],
   "source": [
    "topping = []\n",
    "for i in range(5):\n",
    "    top  = input(\"Enter you topping: \")\n",
    "    topping.append(top)\n",
    "print(topping)"
   ]
  },
  {
   "cell_type": "code",
   "execution_count": 16,
   "metadata": {},
   "outputs": [
    {
     "name": "stdout",
     "output_type": "stream",
     "text": [
      "Enter you topping: cheese\n",
      "Enter you topping: garlic mayo\n",
      "Enter you topping: q\n",
      "['cheese', 'garlic mayo']\n"
     ]
    }
   ],
   "source": [
    "topping = []\n",
    "flag = True\n",
    "while flag:\n",
    "    top  = input(\"Enter you topping: \")\n",
    "    if top == 'q':\n",
    "        flag = False\n",
    "    else:\n",
    "        topping.append(top)\n",
    "print(topping)"
   ]
  },
  {
   "cell_type": "code",
   "execution_count": 7,
   "metadata": {},
   "outputs": [
    {
     "name": "stdout",
     "output_type": "stream",
     "text": [
      "Pizza Order\n",
      "Sizes Avaliable: ['Small', 'Regular', 'Large', 'Jumbo']\n",
      "Enter the size: Regular\n",
      "['Chicken Tikkah', 'Fajita', 'Arabian', 'Mexican']\n",
      "Enter the Flavour: Mexican\n",
      "['Cheese', 'Garlic Mayo', 'Olives', 'Mushrooms', 'Chilli Sauce']\n",
      "Enter the Topping: Olives\n",
      "Order Details: \n",
      "['Regular', 'Mexican', 'Olives']\n"
     ]
    }
   ],
   "source": [
    "order = []\n",
    "avaliable_flavours = [\"Chicken Tikkah\",\"Fajita\",\"Arabian\",\"Mexican\"]\n",
    "avaliable_sizes = [\"Small\",\"Regular\",\"Large\",\"Jumbo\"]\n",
    "avaliable_toppings = [\"Cheese\",\"Garlic Mayo\",\"Olives\",\"Mushrooms\",\"Chilli Sauce\"]\n",
    "print(\"Pizza Order\")\n",
    "\n",
    "flag = True\n",
    "while flag:\n",
    "    print(f\"Sizes Avaliable: {avaliable_sizes}\")\n",
    "    user_size = input(\"Enter the size: \")\n",
    "    if user_size in avaliable_sizes:\n",
    "        print(f\"{avaliable_flavours}\")\n",
    "        user_flavour = input(\"Enter the Flavour: \")\n",
    "        if user_flavour in avaliable_flavours:\n",
    "            print(avaliable_toppings)\n",
    "            user_topping = input(\"Enter the Topping: \")\n",
    "            if user_topping in avaliable_toppings:\n",
    "                print(\"Order Details: \")\n",
    "                order.append(user_size)\n",
    "                order.append(user_flavour)\n",
    "                order.append(user_topping)\n",
    "                flag = False\n",
    "                \n",
    "            else:\n",
    "                print(\"The Topping is not avaliable\")\n",
    "                flag = False\n",
    "        else:\n",
    "            print(\"The Flavour is not Avaliable\")\n",
    "            flag = False\n",
    "    else:\n",
    "        print(\"The Size is not Avaliable\")\n",
    "        flag = False\n",
    "print(order)"
   ]
  }
 ],
 "metadata": {
  "kernelspec": {
   "display_name": "Python 3",
   "language": "python",
   "name": "python3"
  },
  "language_info": {
   "codemirror_mode": {
    "name": "ipython",
    "version": 3
   },
   "file_extension": ".py",
   "mimetype": "text/x-python",
   "name": "python",
   "nbconvert_exporter": "python",
   "pygments_lexer": "ipython3",
   "version": "3.7.0"
  }
 },
 "nbformat": 4,
 "nbformat_minor": 2
}
