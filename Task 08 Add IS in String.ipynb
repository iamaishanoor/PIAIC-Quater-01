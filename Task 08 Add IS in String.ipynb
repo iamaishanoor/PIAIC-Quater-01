{
 "cells": [
  {
   "cell_type": "markdown",
   "metadata": {},
   "source": [
    "# \"Is\" has been added to the front."
   ]
  },
  {
   "cell_type": "code",
   "execution_count": 16,
   "metadata": {},
   "outputs": [
    {
     "name": "stdout",
     "output_type": "stream",
     "text": [
      "Enter any string: is ayesha>\n",
      "String Unchanged!\n"
     ]
    }
   ],
   "source": [
    "string1 = input(\"Enter any string: \")\n",
    "\n",
    "if string1[0:2] ==\"Is\" or string1[0:2] ==\"IS\" or string1[0:2] ==\"is\":\n",
    "    print(\"String Unchanged!\")\n",
    "else:\n",
    "    print(\"New String 'Is \"+string1+\"'\")"
   ]
  }
 ],
 "metadata": {
  "kernelspec": {
   "display_name": "Python 3",
   "language": "python",
   "name": "python3"
  },
  "language_info": {
   "codemirror_mode": {
    "name": "ipython",
    "version": 3
   },
   "file_extension": ".py",
   "mimetype": "text/x-python",
   "name": "python",
   "nbconvert_exporter": "python",
   "pygments_lexer": "ipython3",
   "version": "3.7.0"
  }
 },
 "nbformat": 4,
 "nbformat_minor": 2
}
