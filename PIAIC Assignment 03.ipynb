{
 "cells": [
  {
   "cell_type": "markdown",
   "metadata": {},
   "source": [
    "# Q1:"
   ]
  },
  {
   "cell_type": "markdown",
   "metadata": {},
   "source": [
    "Think of at least three kinds of your favorite pizza. Store these pizza names in a list, and then use a for loop to print the name of each pizza."
   ]
  },
  {
   "cell_type": "code",
   "execution_count": 9,
   "metadata": {},
   "outputs": [],
   "source": [
    "pizza = ['Chicken Tikka Pizza','Fajita Pizza','Malai Boti Pizza']"
   ]
  },
  {
   "cell_type": "code",
   "execution_count": 10,
   "metadata": {},
   "outputs": [
    {
     "name": "stdout",
     "output_type": "stream",
     "text": [
      "My Favorite Pizza's are: \n",
      "Chicken Tikka Pizza\n",
      "Fajita Pizza\n",
      "Malai Boti Pizza\n"
     ]
    }
   ],
   "source": [
    "print(\"My Favorite Pizza's are: \")\n",
    "for i in pizza:\n",
    "    print(i)"
   ]
  },
  {
   "cell_type": "markdown",
   "metadata": {},
   "source": [
    "# Q2"
   ]
  },
  {
   "cell_type": "markdown",
   "metadata": {},
   "source": [
    "Start with your last question , Modify your for loop to print a sentence using the name of the pizza\n",
    "instead of printing just the name of the pizza. For each pizza you should\n",
    "have one line of output containing a simple statement like I like pepperoni\n",
    "pizza."
   ]
  },
  {
   "cell_type": "code",
   "execution_count": 13,
   "metadata": {},
   "outputs": [
    {
     "name": "stdout",
     "output_type": "stream",
     "text": [
      "I like Chicken Tikka Pizza\n",
      "I like Fajita Pizza\n",
      "I like Malai Boti Pizza\n"
     ]
    }
   ],
   "source": [
    "for i in pizza:\n",
    "    print(f\"I like {i}\")"
   ]
  },
  {
   "cell_type": "markdown",
   "metadata": {},
   "source": [
    "# Q3:"
   ]
  },
  {
   "cell_type": "markdown",
   "metadata": {},
   "source": [
    "Use a for loop to print the numbers from 1 to 20,\n",
    "inclusive."
   ]
  },
  {
   "cell_type": "code",
   "execution_count": 18,
   "metadata": {},
   "outputs": [
    {
     "name": "stdout",
     "output_type": "stream",
     "text": [
      "1 2 3 4 5 6 7 8 9 10 11 12 13 14 15 16 17 18 19 20 "
     ]
    }
   ],
   "source": [
    "for i in range(1,21):\n",
    "    print(i, end = \" \")"
   ]
  },
  {
   "cell_type": "markdown",
   "metadata": {},
   "source": [
    "# Q4:"
   ]
  },
  {
   "cell_type": "markdown",
   "metadata": {},
   "source": [
    "Use the third argument of the range() function to make a list\n",
    "of the odd numbers from 1 to 20. Use a for loop to print each number."
   ]
  },
  {
   "cell_type": "code",
   "execution_count": 22,
   "metadata": {},
   "outputs": [
    {
     "name": "stdout",
     "output_type": "stream",
     "text": [
      "Odd Numbers from 1 to 20 are: \n",
      "1 3 5 7 9 11 13 15 17 19 "
     ]
    }
   ],
   "source": [
    "print(\"Odd Numbers from 1 to 20 are: \")\n",
    "for i in range(1,21,2):\n",
    "    print(i, end = \" \")"
   ]
  },
  {
   "cell_type": "markdown",
   "metadata": {},
   "source": [
    "# Q5:"
   ]
  },
  {
   "cell_type": "markdown",
   "metadata": {},
   "source": [
    "Make a list of the multiples of 3 from 3 to 30. Use a for loop to\n",
    "print the numbers in your list."
   ]
  },
  {
   "cell_type": "code",
   "execution_count": 108,
   "metadata": {},
   "outputs": [
    {
     "name": "stdout",
     "output_type": "stream",
     "text": [
      "3 6 9 12 15 18 21 24 27 30 "
     ]
    }
   ],
   "source": [
    "for i in range(3,31,3):\n",
    "    print(i,end = \" \")"
   ]
  },
  {
   "cell_type": "markdown",
   "metadata": {},
   "source": [
    "# Q6:"
   ]
  },
  {
   "cell_type": "markdown",
   "metadata": {},
   "source": [
    "A number raised to the third power is called a cube. For example,\n",
    "the cube of 2 is written as 2**3 in Python. Make a list of the first 10 cubes (that\n",
    "is, the cube of each integer from 1 through 10), and use a for loop to print out\n",
    "the value of each cube"
   ]
  },
  {
   "cell_type": "code",
   "execution_count": 24,
   "metadata": {},
   "outputs": [
    {
     "name": "stdout",
     "output_type": "stream",
     "text": [
      "[1, 8, 27, 64, 125, 216, 343, 512, 729, 1000]\n"
     ]
    }
   ],
   "source": [
    "cubes = []\n",
    "for i in range(1,11):\n",
    "    cubes.append(i**3)\n",
    "print(cubes)"
   ]
  },
  {
   "cell_type": "markdown",
   "metadata": {},
   "source": [
    "# Q7:"
   ]
  },
  {
   "cell_type": "markdown",
   "metadata": {},
   "source": [
    "###### Make a python program that conatains your nine favourite dishes in a list called foods.\n",
    "\n",
    "###### Print the message, The first three items in the list are:. \n",
    "###### Then use a slice to print the first three items from that program’s list.\n",
    "\n",
    "###### Print the message, Three items from the middle of the list are:\n",
    "###### Use a slice to print three items from the middle of the list.\n",
    "\n",
    "###### Print the message, The last three items in the list are:\n",
    "###### Use a slice to print the last three items in the list."
   ]
  },
  {
   "cell_type": "code",
   "execution_count": 40,
   "metadata": {},
   "outputs": [
    {
     "name": "stdout",
     "output_type": "stream",
     "text": [
      "The First Three Items In The List Are: \n",
      "['Biryani', 'Burger', 'Pizza']\n"
     ]
    }
   ],
   "source": [
    "foods = ['Biryani','Burger','Pizza','Pasta','Salad','Bar.B.Que','Haleem','Halwa Puri','Korma']\n",
    "print(\"The First Three Items In The List Are: \")\n",
    "for i in foods (0,3):\n",
         "print(i)"
   ]
  },
  {
   "cell_type": "code",
   "execution_count": 41,
   "metadata": {},
   "outputs": [
    {
     "name": "stdout",
     "output_type": "stream",
     "text": [
      "The Middle Three Items In The List Are: \n",
      "['Pasta', 'Salad', 'Bar.B.Que']\n"
     ]
    }
   ],
   "source": [
    "print(\"The Middle Three Items In The List Are: \")\n",
    "print(foods[3:6])"
   ]
  },
  {
   "cell_type": "code",
   "execution_count": 42,
   "metadata": {},
   "outputs": [
    {
     "name": "stdout",
     "output_type": "stream",
     "text": [
      "The Last Three Items In The List Are: \n",
      "['Haleem', 'Halwa Puri', 'Korma']\n"
     ]
    }
   ],
   "source": [
    "print(\"The Last Three Items In The List Are: \")\n",
    "print(foods[6:])"
   ]
  },
  {
   "cell_type": "markdown",
   "metadata": {},
   "source": [
    "# Q8:"
   ]
  },
  {
   "cell_type": "markdown",
   "metadata": {},
   "source": [
    "### Start with your program from your last Question8.\n",
    "###### Make a copy of the list of foods, and call it friend_foods.\n",
    "###### Then, do the following:\n",
    "######    Add a new dish to the original list.\n",
    "######    Add a different dish to the list friend_foodss.\n",
    "######    Prove that you have two separate lists. \n",
    "###### Print the message, My favorite pizzas are: and then use a for loop to print the first list. \n",
    "###### Print the message,\n",
    "###### My friend’s favorite foods are:, and then use a for loop to print the second list.\n",
    "    \n",
    "##### NOTE: Make sure each new dish is stored in the appropriate list."
   ]
  },
  {
   "cell_type": "code",
   "execution_count": 43,
   "metadata": {},
   "outputs": [
    {
     "name": "stdout",
     "output_type": "stream",
     "text": [
      "['Biryani', 'Burger', 'Pizza', 'Pasta', 'Salad', 'Bar.B.Que', 'Haleem', 'Halwa Puri', 'Korma']\n"
     ]
    }
   ],
   "source": [
    "friend_food = foods.copy()\n",
    "print(friend_food)"
   ]
  },
  {
   "cell_type": "code",
   "execution_count": 44,
   "metadata": {},
   "outputs": [
    {
     "name": "stdout",
     "output_type": "stream",
     "text": [
      "['Biryani', 'Burger', 'Pizza', 'Pasta', 'Salad', 'Bar.B.Que', 'Haleem', 'Halwa Puri', 'Korma', 'Lasagna']\n"
     ]
    }
   ],
   "source": [
    "foods.append(\"Lasagna\")\n",
    "print(foods)"
   ]
  },
  {
   "cell_type": "code",
   "execution_count": 45,
   "metadata": {},
   "outputs": [
    {
     "name": "stdout",
     "output_type": "stream",
     "text": [
      "['Biryani', 'Burger', 'Pizza', 'Pasta', 'Salad', 'Bar.B.Que', 'Haleem', 'Halwa Puri', 'Korma', 'Pakora']\n"
     ]
    }
   ],
   "source": [
    "friend_food.append(\"Pakora\")\n",
    "print(friend_food)"
   ]
  },
  {
   "cell_type": "code",
   "execution_count": 48,
   "metadata": {},
   "outputs": [
    {
     "name": "stdout",
     "output_type": "stream",
     "text": [
      "My Favourite Food is: Biryani\n",
      "My Favourite Food is: Burger\n",
      "My Favourite Food is: Pizza\n",
      "My Favourite Food is: Pasta\n",
      "My Favourite Food is: Salad\n",
      "My Favourite Food is: Bar.B.Que\n",
      "My Favourite Food is: Haleem\n",
      "My Favourite Food is: Halwa Puri\n",
      "My Favourite Food is: Korma\n",
      "My Favourite Food is: Lasagna\n"
     ]
    }
   ],
   "source": [
    "for i in foods:\n",
    "    print(f\"My Favourite Foods are: {i}\")"
   ]
  },
  {
   "cell_type": "code",
   "execution_count": 50,
   "metadata": {},
   "outputs": [
    {
     "name": "stdout",
     "output_type": "stream",
     "text": [
      "My Friend's Favourite Food are: Biryani\n",
      "My Friend's Favourite Food are: Burger\n",
      "My Friend's Favourite Food are: Pizza\n",
      "My Friend's Favourite Food are: Pasta\n",
      "My Friend's Favourite Food are: Salad\n",
      "My Friend's Favourite Food are: Bar.B.Que\n",
      "My Friend's Favourite Food are: Haleem\n",
      "My Friend's Favourite Food are: Halwa Puri\n",
      "My Friend's Favourite Food are: Korma\n",
      "My Friend's Favourite Food are: Pakora\n"
     ]
    }
   ],
   "source": [
    "for i in friend_food:\n",
    "    print(f\"My Friend's Favourite Food are: {i}\")"
   ]
  },
  {
   "cell_type": "markdown",
   "metadata": {},
   "source": [
    "# Q9:"
   ]
  },
  {
   "cell_type": "markdown",
   "metadata": {},
   "source": [
    "Take a user input from console line.Store it in a variable called Alien_color.\n",
    "\n",
    "If the alien’s color is red, print a statement that the player just earned 5 points for shooting the alien.\n",
    "\n",
    "If the alien’s color isn’t green, print a statement that the player just earned 10 points.\n",
    "\n",
    "If the alien's color isn't red or green , print a statment :, Alien is no more....."
   ]
  },
  {
   "cell_type": "code",
   "execution_count": 1,
   "metadata": {},
   "outputs": [
    {
     "name": "stdout",
     "output_type": "stream",
     "text": [
      "Enter the Alien Color: Red\n"
     ]
    }
   ],
   "source": [
    "alien_color = input(\"Enter the Alien Color: \")"
   ]
  },
  {
   "cell_type": "code",
   "execution_count": 2,
   "metadata": {},
   "outputs": [],
   "source": [
    "alien_color = alien_color.lower()"
   ]
  },
  {
   "cell_type": "code",
   "execution_count": 3,
   "metadata": {},
   "outputs": [
    {
     "name": "stdout",
     "output_type": "stream",
     "text": [
      "Player just earned 5 points for shooting the alien.\n"
     ]
    }
   ],
   "source": [
    "if alien_color == \"red\":\n",
    "    print(\"Player just earned 5 points for shooting the alien.\")\n",
    "elif alien_color != \"green\":\n",
    "    print(\"Player just earned 10 points for shooting the alien.\")\n",
    "else:\n",
    "    print(\"Alien is no more\")"
   ]
  },
  {
   "cell_type": "markdown",
   "metadata": {},
   "source": [
    "# Q10:"
   ]
  },
  {
   "cell_type": "markdown",
   "metadata": {},
   "source": [
    "Write an if-elif-else chain that determines a person’s\n",
    "stage of life. Set a value for the variable age, and then:\n",
    "    \n",
    "•\t If the person is less than 2 years old, print a message that the person is a baby.\n",
    "\n",
    "•\t If the person is at least 2 years old but less than 4, print a message that the person is a toddler.\n",
    "\n",
    "•\t If the person is at least 4 years old but less than 13, print a message that the person is a kid.\n",
    "\n",
    "•\t If the person is at least 13 years old but less than 20, print a message that the person is a teenager.\n",
    "\n",
    "•\t If the person is at least 20 years old but less than 65, print a message that the person is an adult.\n",
    "\n",
    "•\t If the person is age 65 or older, print a message that the person is an elder."
   ]
  },
  {
   "cell_type": "code",
   "execution_count": 19,
   "metadata": {},
   "outputs": [
    {
     "name": "stdout",
     "output_type": "stream",
     "text": [
      "Enter your age: 21\n"
     ]
    }
   ],
   "source": [
    "age = int(input(\"Enter your age: \"))"
   ]
  },
  {
   "cell_type": "code",
   "execution_count": 20,
   "metadata": {},
   "outputs": [
    {
     "name": "stdout",
     "output_type": "stream",
     "text": [
      "Person is an Adult.\n"
     ]
    }
   ],
   "source": [
    "if age < 2:\n",
    "    print(\"Person is a Baby\")\n",
    "elif age >= 2 and age < 4:\n",
    "    print(\"Person is a Toddler.\")\n",
    "elif age >= 4 and age < 13:\n",
    "    print(\"Person is a Kid.\")\n",
    "elif age >=13 and age < 20:\n",
    "    print(\"Person is a Teenager.\")\n",
    "elif age >=20 and age < 65:\n",
    "    print(\"Person is an Adult.\")\n",
    "elif age == 65 or age > 65:\n",
    "    print(\"Person is Elder.\")"
   ]
  },
  {
   "cell_type": "markdown",
   "metadata": {},
   "source": [
    "# Q11:"
   ]
  },
  {
   "cell_type": "markdown",
   "metadata": {},
   "source": [
    "Do the following to create a program that simulates how websites ensure that everyone has a unique username.\n",
    "\n",
    "•\t Make a list of five or more usernames called current_users.\n",
    "\n",
    "•\t Make another list of five usernames called new_users. \n",
    "Make sure one or two of the new usernames are also in the current_users list.\n",
    "\n",
    "•\t Loop through the new_users list to see if each new username has already been used. \n",
    "If it has, print a message that the person will need to enter a new username. \n",
    "If a username has not been used, print a message saying that the username is available.\n",
    "\n",
    "•\t Make sure your comparison is case insensitive. If 'John' has been used, 'JOHN' should not be accepted."
   ]
  },
  {
   "cell_type": "code",
   "execution_count": 60,
   "metadata": {},
   "outputs": [],
   "source": [
    "current_users = ['Ayesha','Sana','Maria','Shahzar']\n",
    "new_users = ['Abdullah','Shayan','Warisha','Shahzar']"
   ]
  },
  {
   "cell_type": "code",
   "execution_count": 62,
   "metadata": {},
   "outputs": [
    {
     "name": "stdout",
     "output_type": "stream",
     "text": [
      "Abdullah Username is avaliable.\n",
      "Shayan Username is avaliable.\n",
      "Warisha Username is avaliable.\n",
      "Shahzar username is not avaliable, You have to change your username.\n"
     ]
    }
   ],
   "source": [
    "for i in new_users:\n",
    "    if i in current_users:\n",
    "        print(f\"{i} username is not avaliable, You have to change your username.\")\n",
    "    else:\n",
    "        print(f\"{i} Username is avaliable.\")"
   ]
  },
  {
   "cell_type": "markdown",
   "metadata": {},
   "source": [
    "# Q12:"
   ]
  },
  {
   "cell_type": "markdown",
   "metadata": {},
   "source": [
    "Use a dictionary to store information about a person you know.\n",
    "Store their first name, last name, age, and the city in which they live. \n",
    "You should have keys such as first_name, last_name, age, and city. \n",
    "Print each piece of information stored in your dictionary"
   ]
  },
  {
   "cell_type": "code",
   "execution_count": 63,
   "metadata": {},
   "outputs": [],
   "source": [
    "personal_dict = {\"first_name\": \"Ayesha\",\"last_name\": \"Noor\",\"age\":21,\"city\":\"Karachi\"}"
   ]
  },
  {
   "cell_type": "code",
   "execution_count": 75,
   "metadata": {},
   "outputs": [
    {
     "name": "stdout",
     "output_type": "stream",
     "text": [
      "My Name is: Ayesha Noor\n",
      "My age is: 21\n",
      "I live in: Karachi\n"
     ]
    }
   ],
   "source": [
    "print(\"My Name is: \"+str(personal_dict[\"first_name\"])+\" \"+str(personal_dict[\"last_name\"]))\n",
    "print(\"My age is: \"+str(personal_dict[\"age\"]))\n",
    "print(\"I live in: \"+str(personal_dict[\"city\"]))"
   ]
  },
  {
   "cell_type": "markdown",
   "metadata": {},
   "source": [
    "# Q13:"
   ]
  },
  {
   "cell_type": "markdown",
   "metadata": {},
   "source": [
    "Starts with your last question 12 , loop through the dictionary’s keys and values.\n",
    "When you’re sure that your loop works, add five more Python terms to your\n",
    "dictionary . When you run your program again, these new words and meanings\n",
    "should automatically be included in the output."
   ]
  },
  {
   "cell_type": "code",
   "execution_count": 104,
   "metadata": {},
   "outputs": [
    {
     "name": "stdout",
     "output_type": "stream",
     "text": [
      "list: List is used to gather values of different data types.\n",
      "loop: for loop used to repeat same things again help to reduce code complexity and time complexity.\n",
      "dictionary: It works on key value pair.\n",
      "key: The first item in a key-value pair in a dictionary.\n",
      "value: An item associated with a key in a dictionary.\n"
     ]
    }
   ],
   "source": [
    "dict1 = {\n",
    "    'list': 'List is used to gather values of different data types.',\n",
    "    'loop': 'for loop used to repeat same things again help to reduce code complexity and time complexity.',\n",
    "    'dictionary': \"It works on key value pair.\",\n",
    "    'key': 'The first item in a key-value pair in a dictionary.',\n",
    "    'value': 'An item associated with a key in a dictionary.', }\n",
    "\n",
    "for keys,values in dict1.items():\n",
    "    print(f\"{keys}: {values}\")"
   ]
  },
  {
   "cell_type": "markdown",
   "metadata": {},
   "source": [
    "# Q14:"
   ]
  },
  {
   "cell_type": "markdown",
   "metadata": {},
   "source": [
    "Make a dictionary containing three major rivers and the country\n",
    "each river runs through. One key-value pair might be 'nile': 'egypt'.\n",
    "    \n",
    "    \n",
    "•\t Use a loop to print a sentence about each river, such as The Nile runs\n",
    "through Egypt.\n",
    "\n",
    "NOTE: use upper case through keys and values."
   ]
  },
  {
   "cell_type": "code",
   "execution_count": 7,
   "metadata": {},
   "outputs": [
    {
     "name": "stdout",
     "output_type": "stream",
     "text": [
      "The INDUS RIVER runs through PAKISTAN.\n",
      "The NILE runs through EGYPT.\n",
      "The AMAZON RIVER runs through BRAZIL.\n",
      "The YELLOW RIVER runs through CHINA.\n"
     ]
    }
   ],
   "source": [
    "rivers = {'Indus River':'Pakistan','Nile':'Egypt','Amazon River':'Brazil','Yellow River':'China'}\n",
    "for key,value in rivers.items():\n",
    "    print(f\"The {key.upper()} runs through {value.upper()}.\")"
   ]
  },
  {
   "cell_type": "markdown",
   "metadata": {},
   "source": [
    "# Q15:"
   ]
  },
  {
   "cell_type": "markdown",
   "metadata": {},
   "source": [
    "Make several dictionaries, where the name of each dictionary is the\n",
    "name of a pet. In each dictionary, include the kind of animal and the owner’s\n",
    "name. Store these dictionaries in a list called pets. Next, loop through your list\n",
    "and as you do print everything you know about each pet."
   ]
  },
  {
   "cell_type": "code",
   "execution_count": 6,
   "metadata": {},
   "outputs": [
    {
     "name": "stdout",
     "output_type": "stream",
     "text": [
      "animal_type = Puppy\n",
      "owner_name = Ayesha\n",
      "\n",
      "\n",
      "animal_type = Rabbit\n",
      "owner_name = Daniyal\n",
      "\n",
      "\n",
      "animal_type = Kitten\n",
      "owner_name = Shahzar\n",
      "\n",
      "\n"
     ]
    }
   ],
   "source": [
    "pets = []\n",
    "pet = {'animal_type': 'Puppy', 'owner_name':'Ayesha'}\n",
    "pets.append(pet)\n",
    "pet = {'animal_type':'Rabbit','owner_name':'Daniyal'}\n",
    "pets.append(pet)\n",
    "pet = {'animal_type':'Kitten','owner_name':'Shahzar'}\n",
    "pets.append(pet)\n",
    "for i in pets:\n",
    "    for key,values in i.items():\n",
    "        print(f\"{key} = {values}\")\n",
    "    print(\"\\n\")"
   ]
  },
  {
   "cell_type": "code",
   "execution_count": null,
   "metadata": {},
   "outputs": [],
   "source": []
  }
 ],
 "metadata": {
  "kernelspec": {
   "display_name": "Python 3",
   "language": "python",
   "name": "python3"
  },
  "language_info": {
   "codemirror_mode": {
    "name": "ipython",
    "version": 3
   },
   "file_extension": ".py",
   "mimetype": "text/x-python",
   "name": "python",
   "nbconvert_exporter": "python",
   "pygments_lexer": "ipython3",
   "version": "3.7.0"
  }
 },
 "nbformat": 4,
 "nbformat_minor": 2
}
