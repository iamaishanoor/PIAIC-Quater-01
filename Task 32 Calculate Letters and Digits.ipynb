{
 "cells": [
  {
   "cell_type": "code",
   "execution_count": 2,
   "metadata": {},
   "outputs": [
    {
     "name": "stdout",
     "output_type": "stream",
     "text": [
      "Enter the String: ayesha261998\n",
      "Digits in String: 6\n",
      "Letters in String: 6\n"
     ]
    }
   ],
   "source": [
    "l = 0\n",
    "d = 0\n",
    "string1 = input(\"Enter the String: \")\n",
    "for i in string1:\n",
    "    if(i.isdigit()):\n",
    "        d+=1\n",
    "    elif(i.isalpha()):\n",
    "        l+=1\n",
    "    else:\n",
    "        print(\"Invalid\")\n",
    "        \n",
    "print(f\"Digits in String: {d}\")\n",
    "print(f\"Letters in String: {l}\")"
   ]
  }
 ],
 "metadata": {
  "kernelspec": {
   "display_name": "Python 3",
   "language": "python",
   "name": "python3"
  },
  "language_info": {
   "codemirror_mode": {
    "name": "ipython",
    "version": 3
   },
   "file_extension": ".py",
   "mimetype": "text/x-python",
   "name": "python",
   "nbconvert_exporter": "python",
   "pygments_lexer": "ipython3",
   "version": "3.7.0"
  }
 },
 "nbformat": 4,
 "nbformat_minor": 2
}
