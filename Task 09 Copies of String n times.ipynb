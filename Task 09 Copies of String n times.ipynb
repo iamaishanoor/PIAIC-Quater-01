{
 "cells": [
  {
   "cell_type": "markdown",
   "metadata": {},
   "source": [
    "# Get a string which is n copies of a given string"
   ]
  },
  {
   "cell_type": "code",
   "execution_count": 13,
   "metadata": {},
   "outputs": [
    {
     "name": "stdout",
     "output_type": "stream",
     "text": [
      "Enter the String:  hi\n",
      "Enter the value of n: 5\n",
      " hi hi hi hi hi\n"
     ]
    }
   ],
   "source": [
    "quote = input(\"Enter the String: \")\n",
    "n = int(input(\"Enter the value of n: \"))\n",
    "if n > 0:\n",
    "    print(quote*n)\n",
    "else:\n",
    "    print(\"Invalid\")"
   ]
  },
  {
   "cell_type": "code",
   "execution_count": 12,
   "metadata": {},
   "outputs": [
    {
     "name": "stdout",
     "output_type": "stream",
     "text": [
      "Enter the String: hi\n",
      "Enter the value of n: 5\n",
      "hi hi hi hi hi "
     ]
    }
   ],
   "source": [
    "quote = input(\"Enter the String: \")\n",
    "n = int(input(\"Enter the value of n: \"))\n",
    "if n > 0:\n",
    "    for i in range(1,n+1):\n",
    "        print(quote, end = \" \")\n",
    "else:\n",
    "    print(\"Invalid\")"
   ]
  }
 ],
 "metadata": {
  "kernelspec": {
   "display_name": "Python 3",
   "language": "python",
   "name": "python3"
  },
  "language_info": {
   "codemirror_mode": {
    "name": "ipython",
    "version": 3
   },
   "file_extension": ".py",
   "mimetype": "text/x-python",
   "name": "python",
   "nbconvert_exporter": "python",
   "pygments_lexer": "ipython3",
   "version": "3.7.0"
  }
 },
 "nbformat": 4,
 "nbformat_minor": 2
}
