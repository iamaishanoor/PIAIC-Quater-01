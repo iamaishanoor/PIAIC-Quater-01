{
 "cells": [
  {
   "cell_type": "code",
   "execution_count": 46,
   "metadata": {},
   "outputs": [],
   "source": [
    "class Resturant():\n",
    "    def __init__(self,resturant_name,cuisine_type):\n",
    "        self.resturant_name = resturant_name\n",
    "        self.cuisine_type = cuisine_type\n",
    "    def describe_resturant(self):\n",
    "        print(\"Resturant Name is: \"+self.resturant_name)\n",
    "        print(\"Cuisine Type \"+self.cuisine_type)\n",
    "    def open_resturant(self):\n",
    "            print(\"Resturant is Open\")"
   ]
  },
  {
   "cell_type": "code",
   "execution_count": 47,
   "metadata": {},
   "outputs": [
    {
     "name": "stdout",
     "output_type": "stream",
     "text": [
      "Resturant Name is: Al-Mehran\n",
      "Cuisine Type Italian\n",
      "Resturant is Open\n"
     ]
    }
   ],
   "source": [
    "obj1 = Resturant(\"Al-Mehran\",\"Italian\")\n",
    "obj1.describe_resturant()\n",
    "obj1.open_resturant()"
   ]
  },
  {
   "cell_type": "code",
   "execution_count": 34,
   "metadata": {},
   "outputs": [
    {
     "name": "stdout",
     "output_type": "stream",
     "text": [
      "Resturant Name is: KFC\n",
      "Cuisine Type Fast Food\n",
      "\n",
      "\n",
      "Resturant Name is: Shaheen-Shinwar\n",
      "Cuisine Type Desi Cuisine\n",
      "\n",
      "\n",
      "Resturant Name is: Ginsoy\n",
      "Cuisine Type Chinese Food\n"
     ]
    }
   ],
   "source": [
    "obj1 = Resturant(\"KFC\",\"Fast Food\")\n",
    "obj1.describe_resturant()\n",
    "print(\"\\n\")\n",
    "obj2 = Resturant(\"Shaheen-Shinwar\",\"Desi Cuisine\")\n",
    "obj2.describe_resturant()\n",
    "print(\"\\n\")\n",
    "obj3 = Resturant(\"Ginsoy\",\"Chinese Food\")\n",
    "obj3.describe_resturant()\n"
   ]
  },
  {
   "cell_type": "code",
   "execution_count": 42,
   "metadata": {},
   "outputs": [],
   "source": [
    "class Users():\n",
    "    def __init__(self,first_name,last_name,age,number):\n",
    "        self.first_name = first_name\n",
    "        self.last_name = last_name\n",
    "        self.age = age\n",
    "        self.number = number\n",
    "    def describe1_user(self):\n",
    "        print(f\"User Name is: {self.first_name} {self.last_name}\")\n",
    "        print(f\"User age is: {self.age}\")\n",
    "        print(f\"User Number is: {self.number}\")\n",
    "    def greet_user(self):\n",
    "        print(f\"Welcome to Our Resturant {self.first_name} {self.last_name}\")\n",
    "    \n",
    "    "
   ]
  },
  {
   "cell_type": "code",
   "execution_count": 45,
   "metadata": {},
   "outputs": [
    {
     "name": "stdout",
     "output_type": "stream",
     "text": [
      "User Name is: Ayesha Noor\n",
      "User age is: 18\n",
      "User Number is: 923456783\n",
      "Welcome to Our Resturant Ayesha Noor\n",
      "\n",
      "\n",
      "User Name is: Abdullah Ejaz\n",
      "User age is: 25\n",
      "User Number is: 9235656783\n",
      "Welcome to Our Resturant Abdullah Ejaz\n"
     ]
    }
   ],
   "source": [
    "obj5 = Users(\"Ayesha\",\"Noor\",18,923456783)\n",
    "obj5.describe1_user()\n",
    "obj5.greet_user()\n",
    "print(\"\\n\")\n",
    "objb = Users(\"Abdullah\",\"Ejaz\",25,9235656783)\n",
    "objb.describe1_user()\n",
    "objb.greet_user()\n"
   ]
  },
  {
   "cell_type": "code",
   "execution_count": null,
   "metadata": {},
   "outputs": [],
   "source": []
  }
 ],
 "metadata": {
  "kernelspec": {
   "display_name": "Python 3",
   "language": "python",
   "name": "python3"
  },
  "language_info": {
   "codemirror_mode": {
    "name": "ipython",
    "version": 3
   },
   "file_extension": ".py",
   "mimetype": "text/x-python",
   "name": "python",
   "nbconvert_exporter": "python",
   "pygments_lexer": "ipython3",
   "version": "3.7.0"
  }
 },
 "nbformat": 4,
 "nbformat_minor": 2
}
