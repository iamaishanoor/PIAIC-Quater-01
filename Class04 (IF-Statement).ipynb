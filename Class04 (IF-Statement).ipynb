{
 "cells": [
  {
   "cell_type": "markdown",
   "metadata": {},
   "source": [
    "# IF - STATEMENT"
   ]
  },
  {
   "cell_type": "code",
   "execution_count": 9,
   "metadata": {},
   "outputs": [
    {
     "data": {
      "text/plain": [
       "20"
      ]
     },
     "execution_count": 9,
     "metadata": {},
     "output_type": "execute_result"
    }
   ],
   "source": [
    "a = 10\n",
    "b = 20"
   ]
  },
  {
   "cell_type": "code",
   "execution_count": 11,
   "metadata": {},
   "outputs": [
    {
     "name": "stdout",
     "output_type": "stream",
     "text": [
      "true\n"
     ]
    }
   ],
   "source": [
    "if a < b:\n",
    "    print(\"true\")\n",
    "else:\n",
    "    print(\"false\")"
   ]
  },
  {
   "cell_type": "code",
   "execution_count": 13,
   "metadata": {},
   "outputs": [
    {
     "name": "stdout",
     "output_type": "stream",
     "text": [
      "Enter the value of a: 4\n",
      "Enter the value of b: 8\n",
      "B is greater than A\n"
     ]
    }
   ],
   "source": [
    "a = int(input(\"Enter the value of a: \"))\n",
    "b = int(input(\"Enter the value of b: \"))\n",
    "if a > b:\n",
    "    print(\"A is greater than B\")\n",
    "else:\n",
    "    print(\"B is greater than A\")"
   ]
  },
  {
   "cell_type": "code",
   "execution_count": 16,
   "metadata": {},
   "outputs": [
    {
     "name": "stdout",
     "output_type": "stream",
     "text": [
      "Enter the temprature today: 11\n",
      "It's Cold Weather Today\n"
     ]
    }
   ],
   "source": [
    "temp = int(input(\"Enter the temprature today: \"))\n",
    "if temp > 30:\n",
    "    print(\"It's Hot Weather Today\")\n",
    "elif temp<20:\n",
    "    print(\"It's Cold Weather Today\")\n",
    "else:\n",
    "    print(\"Normal Weather\")"
   ]
  },
  {
   "cell_type": "markdown",
   "metadata": {},
   "source": [
    "# Nested IF"
   ]
  },
  {
   "cell_type": "code",
   "execution_count": 19,
   "metadata": {},
   "outputs": [
    {
     "name": "stdout",
     "output_type": "stream",
     "text": [
      "Do you have CNIC: Yes\n",
      "Go Inside\n",
      "Is my Name is in Voter List: No\n",
      "No You can not Caste the Vote\n"
     ]
    }
   ],
   "source": [
    "cnic = input(\"Do you have CNIC: \")\n",
    "if cnic == \"Yes\":\n",
    "    print(\"Go Inside\")\n",
    "    voter_list = input(\"Is my Name is in Voter List: \")\n",
    "    if voter_list == \"Yes\":\n",
    "        print(\"Now You can Caste the Vote\")\n",
    "    else:\n",
    "        print(\"No You can not Caste the Vote\")\n",
    "else:\n",
    "    print(\"Bring Your CNIC\")"
   ]
  }
 ],
 "metadata": {
  "kernelspec": {
   "display_name": "Python 3",
   "language": "python",
   "name": "python3"
  },
  "language_info": {
   "codemirror_mode": {
    "name": "ipython",
    "version": 3
   },
   "file_extension": ".py",
   "mimetype": "text/x-python",
   "name": "python",
   "nbconvert_exporter": "python",
   "pygments_lexer": "ipython3",
   "version": "3.7.0"
  }
 },
 "nbformat": 4,
 "nbformat_minor": 2
}
