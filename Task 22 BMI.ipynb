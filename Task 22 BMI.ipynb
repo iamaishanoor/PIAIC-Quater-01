{
 "cells": [
  {
   "cell_type": "markdown",
   "metadata": {},
   "source": [
    "# Body Mass Index (BMI)"
   ]
  },
  {
   "cell_type": "code",
   "execution_count": 20,
   "metadata": {},
   "outputs": [
    {
     "name": "stdout",
     "output_type": "stream",
     "text": [
      "Enter the Height in Inches: 62\n",
      "Enter the Weight in Pounds: 120\n",
      "Height in Meters: 1.5748m\n",
      "Weight in Kilogram: 54.43kg\n",
      "---------------------------------------\n",
      "Body Mass Index is: 21.95\n",
      "Category: Normal (healthy weight)\n"
     ]
    }
   ],
   "source": [
    "import math\n",
    "height = float(input(\"Enter the Height in Inches: \"))\n",
    "weight = float(input(\"Enter the Weight in Pounds: \"))\n",
    "\n",
    "meters = 0.0254 * height\n",
    "kilogram = weight * 0.45359237\n",
    "kilogram = round(kilogram,2)\n",
    "bmi = (kilogram / (math.pow(meters,2)))\n",
    "bmi = round(bmi,2)\n",
    "\n",
    "print(\"Height in Meters: \"+str(meters)+\"m\")\n",
    "print(\"Weight in Kilogram: \"+str(kilogram)+\"kg\")\n",
    "print(\"---------------------------------------\")\n",
    "print(\"Body Mass Index is: \"+str(bmi))\n",
    "\n",
    "if bmi < 15:\n",
    "    print(\"Category: Very severely underweight\")\n",
    "elif bmi <= 16:\n",
    "    print(\"Category: Severely underweight\")\n",
    "elif bmi <= 18.5:\n",
    "    print(\"Category: Underweight\")\n",
    "elif bmi <= 25:\n",
    "    print(\"Category: Normal (healthy weight)\")\n",
    "elif bmi <= 30:\n",
    "    print(\"Category: Overweight\")\n",
    "elif bmi <= 35:\n",
    "    print(\"Category: Moderately obese\")\n",
    "elif bmi <= 40:\n",
    "    print(\"Category: Severely obese\")\n",
    "elif bmi <= 30:\n",
    "    print(\"Category: Very severely obese\")\n",
    "else:\n",
    "    print(\"Invalid\")"
   ]
  }
 ],
 "metadata": {
  "kernelspec": {
   "display_name": "Python 3",
   "language": "python",
   "name": "python3"
  },
  "language_info": {
   "codemirror_mode": {
    "name": "ipython",
    "version": 3
   },
   "file_extension": ".py",
   "mimetype": "text/x-python",
   "name": "python",
   "nbconvert_exporter": "python",
   "pygments_lexer": "ipython3",
   "version": "3.7.0"
  }
 },
 "nbformat": 4,
 "nbformat_minor": 2
}
