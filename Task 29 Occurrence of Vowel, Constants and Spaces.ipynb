{
 "cells": [
  {
   "cell_type": "code",
   "execution_count": 7,
   "metadata": {},
   "outputs": [
    {
     "name": "stdout",
     "output_type": "stream",
     "text": [
      "Enter the String: i am bold and beautiful\n",
      "Vowels in the String are: 9\n",
      "Constants in the String are: 10\n",
      "Spaces in the String are: 4\n"
     ]
    }
   ],
   "source": [
    "constant = 0\n",
    "vowel = 0\n",
    "space = 0\n",
    "string1 = input(\"Enter the String: \")\n",
    "for x in string1:\n",
    "    if x == 'a' or x =='A' or x =='e' or x =='E' or x=='i' or x == 'I' or x =='o' or x =='O' or x=='u' or x == 'U':\n",
    "        vowel+=1\n",
    "    elif x == \" \":\n",
    "        space+=1\n",
    "    else:\n",
    "        constant+=1\n",
    "print(f\"Vowels in the String are: {vowel}\")\n",
    "print(f\"Constants in the String are: {constant}\")\n",
    "print(f\"Spaces in the String are: {space}\")"
   ]
  }
 ],
 "metadata": {
  "kernelspec": {
   "display_name": "Python 3",
   "language": "python",
   "name": "python3"
  },
  "language_info": {
   "codemirror_mode": {
    "name": "ipython",
    "version": 3
   },
   "file_extension": ".py",
   "mimetype": "text/x-python",
   "name": "python",
   "nbconvert_exporter": "python",
   "pygments_lexer": "ipython3",
   "version": "3.7.0"
  }
 },
 "nbformat": 4,
 "nbformat_minor": 2
}
